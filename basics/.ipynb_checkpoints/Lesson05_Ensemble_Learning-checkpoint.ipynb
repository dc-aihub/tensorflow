{
 "cells": [
  {
   "cell_type": "markdown",
   "metadata": {},
   "source": [
    "<img src=\"https://github.com/dc-aihub/dc-aihub.github.io/blob/master/img/ai-logo-transparent-banner.png?raw=true\" \n",
    "alt=\"Ai/Hub Logo\"/>\n",
    "\n",
    "<h1 style=\"text-align:center;color:#0B8261;\"><center>TensorFlow</center></h1>\n",
    "<h1 style=\"text-align:center;\"><center>Lesson 5</center></h1>\n",
    "<h1 style=\"text-align:center;\"><center>Ensemble Learning</center></h1>\n",
    "\n",
    "<hr />\n",
    "\n",
    "<center><a href=\"#Flowchart\">Flowchart</a></center>\n",
    "\n",
    "<center><a href=\"#Prep-and-Process\">Preparation and Pre-Processing</a></center>\n",
    "\n",
    "<center><a href=\"#Create-Ensemble\">Create Ensemble of Neural Networks</a></center>\n",
    "\n",
    "<center><a href=\"#Results-and-Analysis\">Results and Analysis</a></center>\n",
    "\n",
    "<center><a href=\"#Ensemble-Predictions\">Ensemble Predictions</a></center>\n",
    "\n",
    "<center><a href=\"#Best-Neural-Net\">Best Neural Network</a></center>\n",
    "\n",
    "<center><a href=\"#Ensemble-vs-Best-Single\">Ensemble vs Best Single Neural Network</a></center>\n",
    "\n",
    "<center><a href=\"#Examples\">Examples</a></center>\n",
    "\n",
    "<center><a href=\"#Summary\">Summary</a></center>\n",
    "\n",
    "<center><a href=\"#Challenge\">Challenge</a></center>\n",
    "\n",
    "<hr />\n",
    "\n",
    "<center>***Original Tutorial by Magnus Erik Hvass Pedersen:*** <br/>https://github.com/Hvass-Labs/TensorFlow-Tutorials</center>"
   ]
  },
  {
   "cell_type": "markdown",
   "metadata": {},
   "source": [
    "<div style=\"background-color:#0B8261; width:100%; height:38px; color:white; font-size:18px; padding:10px;\">\n",
    "OVERVIEW\n",
    "</div>\n",
    "\n",
    "<center style=\"color:#0B8261;\">\n",
    "This tutorial shows how to use a so-called ensemble of convolutional neural networks. Instead of using a single neural network, we use several neural networks and average their outputs.\n",
    "<br/><br/>\n",
    "This is used on the MNIST data-set for recognizing hand-written digits. The ensemble improves the classification accuracy slightly on the test-set, but the difference is so small that it is possibly random. Furthermore, the ensemble mis-classifies some images that are correctly classified by some of the individual networks.\n",
    "<br/><br/>\n",
    "This tutorial builds on the previous tutorials, so you should have a basic understanding of TensorFlow and the add-on package Pretty Tensor. A lot of the source-code and text here is similar to the previous tutorials and may be read quickly if you have recently read the previous tutorials.\n",
    "</center>\n",
    "\n",
    "<br/>\n",
    "\n",
    "<center><b>[Click here to follow along with the video on YouTube](https://www.youtube.com/watch?v=AVKZrPCW91A&list=PL9Hr9sNUjfsmEu1ZniY0XpHSzl5uihcXZ&t=0s&index=8)</b></center>\n"
   ]
  },
  {
   "cell_type": "markdown",
   "metadata": {},
   "source": [
    "<div style=\"background-color:#0B8261; width:100%; height:38px; color:white; font-size:18px; padding:10px;\" id=\"Flowchart\">\n",
    "FLOWCHART\n",
    "</div>\n",
    "\n",
    "The following chart shows roughly how the data flows in the Convolutional Neural Network that is implemented below. The network has two convolutional layers and two fully-connected layers, with the last layer being used for the final classification of the input images. See Tutorial #02 for a more detailed description of this network and convolution in general.\n",
    "\n",
    "This tutorial implements an ensemble of 5 such neural networks, where the network structure is the same but the weights and other variables are different for each network.\n",
    "\n",
    "![Flowchart](data/images/02_network_flowchart.png)"
   ]
  },
  {
   "cell_type": "markdown",
   "metadata": {},
   "source": [
    "<div style=\"background-color:#0B8261; width:100%; height:38px; color:white; font-size:18px; padding:10px;\" id=\"Prep-and-Process\">\n",
    "PREPARATION AND PRE-PROCESSING\n",
    "</div>\n",
    "\n",
    "<h3 style=\"color:#45A046;\">Imports</h3>\n",
    "\n",
    "Now that we are a few lessons in, we have removed a portion of redundant code in order to minimize the time it takes to read each lesson.\n",
    "\n",
    "If you need to review it or make changes, it is in the data folder provided with these lessons."
   ]
  },
  {
   "cell_type": "code",
   "execution_count": 1,
   "metadata": {
    "scrolled": true
   },
   "outputs": [
    {
     "name": "stderr",
     "output_type": "stream",
     "text": [
      "C:\\Users\\Reasonable\\Anaconda3\\lib\\site-packages\\h5py\\__init__.py:34: FutureWarning: Conversion of the second argument of issubdtype from `float` to `np.floating` is deprecated. In future, it will be treated as `np.float64 == np.dtype(float).type`.\n",
      "  from ._conv import register_converters as _register_converters\n"
     ]
    },
    {
     "name": "stdout",
     "output_type": "stream",
     "text": [
      "\n",
      "Preparing MNIST Dataset\n",
      "\n",
      "Extracting data/MNIST/train-images-idx3-ubyte.gz\n",
      "Extracting data/MNIST/train-labels-idx1-ubyte.gz\n",
      "Extracting data/MNIST/t10k-images-idx3-ubyte.gz\n",
      "Extracting data/MNIST/t10k-labels-idx1-ubyte.gz\n",
      "\n",
      "Size of:\n",
      "- Training-set:\t\t55000\n",
      "- Test-set:\t\t10000\n",
      "- Validation-set:\t5000\n",
      "\n",
      "Testing 'plot_images()' Method\n"
     ]
    },
    {
     "data": {
      "image/png": "[encoded data removed]",
      "text/plain": [
       "<matplotlib.figure.Figure at 0x1b53fdfc470>"
      ]
     },
     "metadata": {},
     "output_type": "display_data"
    },
    {
     "name": "stdout",
     "output_type": "stream",
     "text": [
      "WARNING:tensorflow:From D:\\OneDrive\\Projects\\GitRepositories\\cooking-dough-with-tensorflow\\data\\shared_code.py:91: calling argmax (from tensorflow.python.ops.math_ops) with dimension is deprecated and will be removed in a future version.\n",
      "Instructions for updating:\n",
      "Use the `axis` argument instead\n"
     ]
    }
   ],
   "source": [
    "%run data/shared_code.py"
   ]
  },
  {
   "cell_type": "markdown",
   "metadata": {},
   "source": [
    "<h3 style=\"color:#45A046;\">Helper-Function for Creating Random Training-Sets</h3>\n",
    "\n",
    "We will train 5 neural networks on different training-sets that are selected at random. First we combine the original training- and validation-sets into one big set. This is done for both the images and the labels."
   ]
  },
  {
   "cell_type": "code",
   "execution_count": 10,
   "metadata": {
    "collapsed": true
   },
   "outputs": [],
   "source": [
    "combined_images = np.concatenate([data.train.images, data.validation.images], axis=0)\n",
    "combined_labels = np.concatenate([data.train.labels, data.validation.labels], axis=0)"
   ]
  },
  {
   "cell_type": "markdown",
   "metadata": {},
   "source": [
    "Check that the shape of the combined arrays is correct."
   ]
  },
  {
   "cell_type": "code",
   "execution_count": 11,
   "metadata": {},
   "outputs": [
    {
     "name": "stdout",
     "output_type": "stream",
     "text": [
      "(60000, 784)\n",
      "(60000, 10)\n"
     ]
    }
   ],
   "source": [
    "print(combined_images.shape)\n",
    "print(combined_labels.shape)"
   ]
  },
  {
   "cell_type": "markdown",
   "metadata": {},
   "source": [
    "Size of the combined data-set."
   ]
  },
  {
   "cell_type": "code",
   "execution_count": 12,
   "metadata": {
    "scrolled": true
   },
   "outputs": [
    {
     "data": {
      "text/plain": [
       "60000"
      ]
     },
     "execution_count": 12,
     "metadata": {},
     "output_type": "execute_result"
    }
   ],
   "source": [
    "combined_size = len(combined_images)\n",
    "combined_size"
   ]
  },
  {
   "cell_type": "markdown",
   "metadata": {},
   "source": [
    "Define the size of the training-set used for each neural network. You can try and change this."
   ]
  },
  {
   "cell_type": "code",
   "execution_count": 13,
   "metadata": {},
   "outputs": [
    {
     "data": {
      "text/plain": [
       "48000"
      ]
     },
     "execution_count": 13,
     "metadata": {},
     "output_type": "execute_result"
    }
   ],
   "source": [
    "train_size = int(0.8 * combined_size)\n",
    "train_size"
   ]
  },
  {
   "cell_type": "markdown",
   "metadata": {},
   "source": [
    "We do not use a validation-set during training, but this would be the size."
   ]
  },
  {
   "cell_type": "code",
   "execution_count": 14,
   "metadata": {},
   "outputs": [
    {
     "data": {
      "text/plain": [
       "12000"
      ]
     },
     "execution_count": 14,
     "metadata": {},
     "output_type": "execute_result"
    }
   ],
   "source": [
    "validation_size = combined_size - train_size\n",
    "validation_size"
   ]
  },
  {
   "cell_type": "markdown",
   "metadata": {},
   "source": [
    "<h3 style=\"color:#45A046;\">Helper-function for splitting the combined data-set into a random training and validation sets</h3>"
   ]
  },
  {
   "cell_type": "code",
   "execution_count": 15,
   "metadata": {
    "collapsed": true
   },
   "outputs": [],
   "source": [
    "def random_training_set():\n",
    "    # Create a randomized index into the full / combined training-set.\n",
    "    idx = np.random.permutation(combined_size)\n",
    "\n",
    "    # Split the random index into training- and validation-sets.\n",
    "    idx_train = idx[0:train_size]\n",
    "    idx_validation = idx[train_size:]\n",
    "\n",
    "    # Select the images and labels for the new training-set.\n",
    "    x_train = combined_images[idx_train, :]\n",
    "    y_train = combined_labels[idx_train, :]\n",
    "\n",
    "    # Select the images and labels for the new validation-set.\n",
    "    x_validation = combined_images[idx_validation, :]\n",
    "    y_validation = combined_labels[idx_validation, :]\n",
    "\n",
    "    # Return the new training- and validation-sets.\n",
    "    return x_train, y_train, x_validation, y_validation"
   ]
  },
  {
   "cell_type": "markdown",
   "metadata": {},
   "source": [
    "<h3 style=\"color:#45A046;\">Data Dimensions</h3>"
   ]
  },
  {
   "cell_type": "markdown",
   "metadata": {},
   "source": [
    "The data dimensions are used in several places in the source-code below. They are defined once so we can use these variables instead of numbers throughout the source-code below."
   ]
  },
  {
   "cell_type": "code",
   "execution_count": 16,
   "metadata": {
    "collapsed": true
   },
   "outputs": [],
   "source": [
    "# We know that MNIST images are 28 pixels in each dimension.\n",
    "img_size = 28\n",
    "\n",
    "# Images are stored in one-dimensional arrays of this length.\n",
    "img_size_flat = img_size * img_size\n",
    "\n",
    "# Tuple with height and width of images used to reshape arrays.\n",
    "img_shape = (img_size, img_size)\n",
    "\n",
    "# Number of colour channels for the images: 1 channel for gray-scale.\n",
    "num_channels = 1\n",
    "\n",
    "# Number of classes, one class for each of 10 digits.\n",
    "num_classes = 10"
   ]
  },
  {
   "cell_type": "markdown",
   "metadata": {},
   "source": [
    "<h3 style=\"color:#45A046;\">Helper-Function for Plotting Images</h3>"
   ]
  },
  {
   "cell_type": "markdown",
   "metadata": {},
   "source": [
    "Function used to plot 9 images in a 3x3 grid, and writing the true and predicted classes below each image."
   ]
  },
  {
   "cell_type": "code",
   "execution_count": 17,
   "metadata": {
    "collapsed": true
   },
   "outputs": [],
   "source": [
    "def plot_images(images,                  # Images to plot, 2-d array.\n",
    "                cls_true,                # True class-no for images.\n",
    "                ensemble_cls_pred=None,  # Ensemble predicted class-no.\n",
    "                best_cls_pred=None):     # Best-net predicted class-no.\n",
    "\n",
    "    assert len(images) == len(cls_true)\n",
    "    \n",
    "    # Create figure with 3x3 sub-plots.\n",
    "    fig, axes = plt.subplots(3, 3)\n",
    "\n",
    "    # Adjust vertical spacing if we need to print ensemble and best-net.\n",
    "    if ensemble_cls_pred is None:\n",
    "        hspace = 0.3\n",
    "    else:\n",
    "        hspace = 1.0\n",
    "    fig.subplots_adjust(hspace=hspace, wspace=0.3)\n",
    "\n",
    "    # For each of the sub-plots.\n",
    "    for i, ax in enumerate(axes.flat):\n",
    "\n",
    "        # There may not be enough images for all sub-plots.\n",
    "        if i < len(images):\n",
    "            # Plot image.\n",
    "            ax.imshow(images[i].reshape(img_shape), cmap='binary')\n",
    "\n",
    "            # Show true and predicted classes.\n",
    "            if ensemble_cls_pred is None:\n",
    "                xlabel = \"True: {0}\".format(cls_true[i])\n",
    "            else:\n",
    "                msg = \"True: {0}\\nEnsemble: {1}\\nBest Net: {2}\"\n",
    "                xlabel = msg.format(cls_true[i],\n",
    "                                    ensemble_cls_pred[i],\n",
    "                                    best_cls_pred[i])\n",
    "\n",
    "            # Show the classes as the label on the x-axis.\n",
    "            ax.set_xlabel(xlabel)\n",
    "        \n",
    "        # Remove ticks from the plot.\n",
    "        ax.set_xticks([])\n",
    "        ax.set_yticks([])\n",
    "    \n",
    "    # Ensure the plot is shown correctly with multiple plots\n",
    "    # in a single Notebook cell.\n",
    "    plt.show()"
   ]
  },
  {
   "cell_type": "markdown",
   "metadata": {},
   "source": [
    "<h3 style=\"color:#45A046;\">Plot a few Images to See if Data is Correct</h3>"
   ]
  },
  {
   "cell_type": "code",
   "execution_count": 18,
   "metadata": {},
   "outputs": [
    {
     "data": {
      "image/png": "[encoded data removed]",
      "text/plain": [
       "<matplotlib.figure.Figure at 0x293790468d0>"
      ]
     },
     "metadata": {},
     "output_type": "display_data"
    }
   ],
   "source": [
    "# Get the first images from the test-set.\n",
    "images = data.test.images[0:9]\n",
    "\n",
    "# Get the true classes for those images.\n",
    "cls_true = data.test.cls[0:9]\n",
    "\n",
    "# Plot the images and labels using our helper-function above.\n",
    "plot_images(images=images, cls_true=cls_true)"
   ]
  },
  {
   "cell_type": "markdown",
   "metadata": {},
   "source": [
    "<h3 style=\"color:#45A046;\">TensorFlow Graph</h3>\n",
    "\n",
    "The entire purpose of TensorFlow is to have a so-called computational graph that can be executed much more efficiently than if the same calculations were to be performed directly in Python. TensorFlow can be more efficient than NumPy because TensorFlow knows the entire computation graph that must be executed, while NumPy only knows the computation of a single mathematical operation at a time.\n",
    "\n",
    "TensorFlow can also automatically calculate the gradients that are needed to optimize the variables of the graph so as to make the model perform better. This is because the graph is a combination of simple mathematical expressions so the gradient of the entire graph can be calculated using the chain-rule for derivatives.\n",
    "\n",
    "TensorFlow can also take advantage of multi-core CPUs as well as GPUs - and Google has even built special chips just for TensorFlow which are called TPUs (Tensor Processing Units) and are even faster than GPUs.\n",
    "\n",
    "A TensorFlow graph consists of the following parts which will be detailed below:\n",
    "\n",
    "* Placeholder variables used for inputting data to the graph.\n",
    "* Variables that are going to be optimized so as to make the convolutional network perform better.\n",
    "* The mathematical formulas for the neural network.\n",
    "* A loss measure that can be used to guide the optimization of the variables.\n",
    "* An optimization method which updates the variables.\n",
    "\n",
    "In addition, the TensorFlow graph may also contain various debugging statements e.g. for logging data to be displayed using TensorBoard, which is not covered in this tutorial."
   ]
  },
  {
   "cell_type": "markdown",
   "metadata": {},
   "source": [
    "<h3 style=\"color:#45A046;\">Placeholder Variables</h3>"
   ]
  },
  {
   "cell_type": "markdown",
   "metadata": {},
   "source": [
    "Placeholder variables serve as the input to the TensorFlow computational graph that we may change each time we execute the graph. We call this feeding the placeholder variables and it is demonstrated further below.\n",
    "\n",
    "First we define the placeholder variable for the input images. This allows us to change the images that are input to the TensorFlow graph. This is a so-called tensor, which just means that it is a multi-dimensional array. The data-type is set to `float32` and the shape is set to `[None, img_size_flat]`, where `None` means that the tensor may hold an arbitrary number of images with each image being a vector of length `img_size_flat`."
   ]
  },
  {
   "cell_type": "code",
   "execution_count": 19,
   "metadata": {
    "collapsed": true
   },
   "outputs": [],
   "source": [
    "x = tf.placeholder(tf.float32, shape=[None, img_size_flat], name='x')"
   ]
  },
  {
   "cell_type": "markdown",
   "metadata": {},
   "source": [
    "The convolutional layers expect `x` to be encoded as a 4-dim tensor so we have to reshape it so its shape is instead `[num_images, img_height, img_width, num_channels]`. Note that `img_height == img_width == img_size` and `num_images` can be inferred automatically by using -1 for the size of the first dimension. So the reshape operation is:"
   ]
  },
  {
   "cell_type": "code",
   "execution_count": 20,
   "metadata": {
    "collapsed": true
   },
   "outputs": [],
   "source": [
    "x_image = tf.reshape(x, [-1, img_size, img_size, num_channels])"
   ]
  },
  {
   "cell_type": "markdown",
   "metadata": {},
   "source": [
    "Next we have the placeholder variable for the true labels associated with the images that were input in the placeholder variable `x`. The shape of this placeholder variable is `[None, num_classes]` which means it may hold an arbitrary number of labels and each label is a vector of length `num_classes` which is 10 in this case."
   ]
  },
  {
   "cell_type": "code",
   "execution_count": 21,
   "metadata": {
    "collapsed": true
   },
   "outputs": [],
   "source": [
    "y_true = tf.placeholder(tf.float32, shape=[None, 10], name='y_true')"
   ]
  },
  {
   "cell_type": "markdown",
   "metadata": {},
   "source": [
    "We could also have a placeholder variable for the class-number, but we will instead calculate it using argmax. Note that this is a TensorFlow operator so nothing is calculated at this point."
   ]
  },
  {
   "cell_type": "code",
   "execution_count": 22,
   "metadata": {},
   "outputs": [
    {
     "name": "stdout",
     "output_type": "stream",
     "text": [
      "WARNING:tensorflow:From <ipython-input-22-4674210f2acc>:1: calling argmax (from tensorflow.python.ops.math_ops) with dimension is deprecated and will be removed in a future version.\n",
      "Instructions for updating:\n",
      "Use the `axis` argument instead\n"
     ]
    }
   ],
   "source": [
    "y_true_cls = tf.argmax(y_true, dimension=1)"
   ]
  },
  {
   "cell_type": "markdown",
   "metadata": {},
   "source": [
    "<h3 style=\"color:#45A046;\">Convolutional Neural Network</h3>"
   ]
  },
  {
   "cell_type": "markdown",
   "metadata": {},
   "source": [
    "This section implements the Convolutional Neural Network using Pretty Tensor, which is much simpler than a direct implementation in TensorFlow, see Tutorial #03.\n",
    "\n",
    "The basic idea is to wrap the input tensor `x_image` in a Pretty Tensor object which has helper-functions for adding new computational layers so as to create an entire neural network. Pretty Tensor takes care of the variable allocation, etc."
   ]
  },
  {
   "cell_type": "code",
   "execution_count": 23,
   "metadata": {
    "collapsed": true
   },
   "outputs": [],
   "source": [
    "x_pretty = pt.wrap(x_image)"
   ]
  },
  {
   "cell_type": "markdown",
   "metadata": {},
   "source": [
    "Now that we have wrapped the input image in a Pretty Tensor object, we can add the convolutional and fully-connected layers in just a few lines of source-code.\n",
    "\n",
    "Note that `pt.defaults_scope(activation_fn=tf.nn.relu)` makes `activation_fn=tf.nn.relu` an argument for each of the layers constructed inside the `with`-block, so that Rectified Linear Units (ReLU) are used for each of these layers. The `defaults_scope` makes it easy to change arguments for all of the layers."
   ]
  },
  {
   "cell_type": "code",
   "execution_count": 24,
   "metadata": {},
   "outputs": [
    {
     "name": "stdout",
     "output_type": "stream",
     "text": [
      "WARNING:tensorflow:From C:\\Users\\Reasonable\\Anaconda3\\lib\\site-packages\\tensorflow\\contrib\\nn\\python\\ops\\cross_entropy.py:68: softmax_cross_entropy_with_logits (from tensorflow.python.ops.nn_ops) is deprecated and will be removed in a future version.\n",
      "Instructions for updating:\n",
      "\n",
      "Future major versions of TensorFlow will allow gradients to flow\n",
      "into the labels input on backprop by default.\n",
      "\n",
      "See tf.nn.softmax_cross_entropy_with_logits_v2.\n",
      "\n"
     ]
    }
   ],
   "source": [
    "with pt.defaults_scope(activation_fn=tf.nn.relu):\n",
    "    y_pred, loss = x_pretty.\\\n",
    "        conv2d(kernel=5, depth=16, name='layer_conv1').\\\n",
    "        max_pool(kernel=2, stride=2).\\\n",
    "        conv2d(kernel=5, depth=36, name='layer_conv2').\\\n",
    "        max_pool(kernel=2, stride=2).\\\n",
    "        flatten().\\\n",
    "        fully_connected(size=128, name='layer_fc1').\\\n",
    "        softmax_classifier(num_classes=num_classes, labels=y_true)"
   ]
  },
  {
   "cell_type": "markdown",
   "metadata": {},
   "source": [
    "<h3 style=\"color:#45A046;\">Activation Method</h3>"
   ]
  },
  {
   "cell_type": "markdown",
   "metadata": {},
   "source": [
    "Pretty Tensor gave us the predicted class-label (`y_pred`) as well as a loss-measure that must be minimized, so as to improve the ability of the neural network to classify the input images.\n",
    "\n",
    "It is unclear from the documentation for Pretty Tensor whether the loss-measure is cross-entropy or something else. But we now use the `AdamOptimizer` to minimize the loss.\n",
    "\n",
    "Note that optimization is not performed at this point. In fact, nothing is calculated at all, we just add the optimizer-object to the TensorFlow graph for later execution."
   ]
  },
  {
   "cell_type": "code",
   "execution_count": 25,
   "metadata": {
    "collapsed": true
   },
   "outputs": [],
   "source": [
    "optimizer = tf.train.AdamOptimizer(learning_rate=1e-4).minimize(loss)"
   ]
  },
  {
   "cell_type": "markdown",
   "metadata": {},
   "source": [
    "<h3 style=\"color:#45A046;\">Performance Measures</h3>\n",
    "\n",
    "We need a few more performance measures to display the progress to the user.\n",
    "\n",
    "First we calculate the predicted class number from the output of the neural network `y_pred`, which is a vector with 10 elements. The class number is the index of the largest element."
   ]
  },
  {
   "cell_type": "code",
   "execution_count": 26,
   "metadata": {
    "collapsed": true
   },
   "outputs": [],
   "source": [
    "y_pred_cls = tf.argmax(y_pred, dimension=1)"
   ]
  },
  {
   "cell_type": "markdown",
   "metadata": {},
   "source": [
    "Then we create a vector of booleans telling us whether the predicted class equals the true class of each image."
   ]
  },
  {
   "cell_type": "code",
   "execution_count": 27,
   "metadata": {
    "collapsed": true
   },
   "outputs": [],
   "source": [
    "correct_prediction = tf.equal(y_pred_cls, y_true_cls)"
   ]
  },
  {
   "cell_type": "markdown",
   "metadata": {},
   "source": [
    "The classification accuracy is calculated by first type-casting the vector of booleans to floats, so that False becomes 0 and True becomes 1, and then taking the average of these numbers."
   ]
  },
  {
   "cell_type": "code",
   "execution_count": 28,
   "metadata": {
    "collapsed": true
   },
   "outputs": [],
   "source": [
    "accuracy = tf.reduce_mean(tf.cast(correct_prediction, tf.float32))"
   ]
  },
  {
   "cell_type": "markdown",
   "metadata": {},
   "source": [
    "<h3 style=\"color:#45A046;\">Saver</h3>\n",
    "\n",
    "In order to save the variables of the neural network, we now create a Saver-object which is used for storing and retrieving all the variables of the TensorFlow graph. Nothing is actually saved at this point, which will be done further below.\n",
    "\n",
    "Note that if you have more than 100 neural networks in the ensemble then you must increase `max_to_keep` accordingly."
   ]
  },
  {
   "cell_type": "code",
   "execution_count": 29,
   "metadata": {
    "collapsed": true
   },
   "outputs": [],
   "source": [
    "saver = tf.train.Saver(max_to_keep=100)"
   ]
  },
  {
   "cell_type": "markdown",
   "metadata": {},
   "source": [
    "This is the directory used for saving and retrieving the data."
   ]
  },
  {
   "cell_type": "code",
   "execution_count": 30,
   "metadata": {
    "collapsed": true
   },
   "outputs": [],
   "source": [
    "save_dir = 'data/checkpoints/'"
   ]
  },
  {
   "cell_type": "markdown",
   "metadata": {},
   "source": [
    "Create the directory if it does not exist."
   ]
  },
  {
   "cell_type": "code",
   "execution_count": 31,
   "metadata": {
    "collapsed": true
   },
   "outputs": [],
   "source": [
    "if not os.path.exists(save_dir):\n",
    "    os.makedirs(save_dir)"
   ]
  },
  {
   "cell_type": "markdown",
   "metadata": {},
   "source": [
    "This function returns the save-path for the data-file with the given network number."
   ]
  },
  {
   "cell_type": "code",
   "execution_count": 32,
   "metadata": {
    "collapsed": true
   },
   "outputs": [],
   "source": [
    "def get_save_path(net_number):\n",
    "    return save_dir + 'network' + str(net_number)"
   ]
  },
  {
   "cell_type": "markdown",
   "metadata": {},
   "source": [
    "<h3 style=\"color:#45A046;\">Create TensorFlow Session</h3>\n",
    "\n",
    "Once the TensorFlow graph has been created, we have to create a TensorFlow session which is used to execute the graph."
   ]
  },
  {
   "cell_type": "code",
   "execution_count": 33,
   "metadata": {
    "collapsed": true
   },
   "outputs": [],
   "source": [
    "session = tf.Session()"
   ]
  },
  {
   "cell_type": "markdown",
   "metadata": {},
   "source": [
    "<h3 style=\"color:#45A046;\">Initialize Variables</h3>\n",
    "\n",
    "The variables for `weights` and `biases` must be initialized before we start optimizing them. We make a simple wrapper-function for this, because we will call it several times below."
   ]
  },
  {
   "cell_type": "code",
   "execution_count": 34,
   "metadata": {
    "collapsed": true
   },
   "outputs": [],
   "source": [
    "def init_variables():\n",
    "    session.run(tf.initialize_all_variables())"
   ]
  },
  {
   "cell_type": "markdown",
   "metadata": {},
   "source": [
    "<h3 style=\"color:#45A046;\">Helper-Function for Creating Random Training-Batch</h3>"
   ]
  },
  {
   "cell_type": "markdown",
   "metadata": {},
   "source": [
    "There are thousands of images in the training-set. It takes a long time to calculate the gradient of the model using all these images. We therefore only use a small batch of images in each iteration of the optimizer.\n",
    "\n",
    "If your computer crashes or becomes very slow because you run out of RAM, then you may try and lower this number, but you may then need to perform more optimization iterations."
   ]
  },
  {
   "cell_type": "code",
   "execution_count": 35,
   "metadata": {
    "collapsed": true
   },
   "outputs": [],
   "source": [
    "train_batch_size = 64"
   ]
  },
  {
   "cell_type": "markdown",
   "metadata": {},
   "source": [
    "<h3 style=\"color:#45A046;\">Helper-Function for selecting a Random Training-Batch of the given Size</h3>"
   ]
  },
  {
   "cell_type": "code",
   "execution_count": 36,
   "metadata": {
    "collapsed": true
   },
   "outputs": [],
   "source": [
    "def random_batch(x_train, y_train):\n",
    "    # Total number of images in the training-set.\n",
    "    num_images = len(x_train)\n",
    "\n",
    "    # Create a random index into the training-set.\n",
    "    idx = np.random.choice(num_images,\n",
    "                           size=train_batch_size,\n",
    "                           replace=False)\n",
    "\n",
    "    # Use the random index to select random images and labels.\n",
    "    x_batch = x_train[idx, :]  # Images.\n",
    "    y_batch = y_train[idx, :]  # Labels.\n",
    "\n",
    "    # Return the batch.\n",
    "    return x_batch, y_batch"
   ]
  },
  {
   "cell_type": "markdown",
   "metadata": {},
   "source": [
    "<h3 style=\"color:#45A046;\">Helper-Function to perform Optimization Iterations</h3>"
   ]
  },
  {
   "cell_type": "markdown",
   "metadata": {},
   "source": [
    "Function for performing a number of optimization iterations so as to gradually improve the variables of the network layers. In each iteration, a new batch of data is selected from the training-set and then TensorFlow executes the optimizer using those training samples.  The progress is printed every 100 iterations."
   ]
  },
  {
   "cell_type": "code",
   "execution_count": 37,
   "metadata": {
    "collapsed": true
   },
   "outputs": [],
   "source": [
    "def optimize(num_iterations, x_train, y_train):\n",
    "    # Start-time used for printing time-usage below.\n",
    "    start_time = time.time()\n",
    "\n",
    "    for i in range(num_iterations):\n",
    "\n",
    "        # Get a batch of training examples.\n",
    "        # x_batch now holds a batch of images and\n",
    "        # y_true_batch are the true labels for those images.\n",
    "        x_batch, y_true_batch = random_batch(x_train, y_train)\n",
    "\n",
    "        # Put the batch into a dict with the proper names\n",
    "        # for placeholder variables in the TensorFlow graph.\n",
    "        feed_dict_train = {x: x_batch,\n",
    "                           y_true: y_true_batch}\n",
    "\n",
    "        # Run the optimizer using this batch of training data.\n",
    "        # TensorFlow assigns the variables in feed_dict_train\n",
    "        # to the placeholder variables and then runs the optimizer.\n",
    "        session.run(optimizer, feed_dict=feed_dict_train)\n",
    "\n",
    "        # Print status every 100 iterations and after last iteration.\n",
    "        if i % 100 == 0:\n",
    "\n",
    "            # Calculate the accuracy on the training-batch.\n",
    "            acc = session.run(accuracy, feed_dict=feed_dict_train)\n",
    "            \n",
    "            # Status-message for printing.\n",
    "            msg = \"Optimization Iteration: {0:>6}, Training Batch Accuracy: {1:>6.1%}\"\n",
    "\n",
    "            # Print it.\n",
    "            print(msg.format(i + 1, acc))\n",
    "\n",
    "    # Ending time.\n",
    "    end_time = time.time()\n",
    "\n",
    "    # Difference between start and end-times.\n",
    "    time_dif = end_time - start_time\n",
    "\n",
    "    # Print the time-usage.\n",
    "    print(\"Time usage: \" + str(timedelta(seconds=int(round(time_dif)))))"
   ]
  },
  {
   "cell_type": "markdown",
   "metadata": {},
   "source": [
    "<div style=\"background-color:#0B8261; width:100%; height:38px; color:white; font-size:18px; padding:10px;\" id=\"Create-Ensemble\">\n",
    "CREATE ENSEMBLE OF NEURAL NETWORKS\n",
    "</div>"
   ]
  },
  {
   "cell_type": "markdown",
   "metadata": {},
   "source": [
    "Number of neural networks in the ensemble."
   ]
  },
  {
   "cell_type": "code",
   "execution_count": 38,
   "metadata": {
    "collapsed": true
   },
   "outputs": [],
   "source": [
    "num_networks = 5"
   ]
  },
  {
   "cell_type": "markdown",
   "metadata": {},
   "source": [
    "Number of optimization iterations for each neural network."
   ]
  },
  {
   "cell_type": "code",
   "execution_count": 39,
   "metadata": {
    "collapsed": true
   },
   "outputs": [],
   "source": [
    "num_iterations = 10000"
   ]
  },
  {
   "cell_type": "markdown",
   "metadata": {},
   "source": [
    "Create the ensemble of neural networks. All networks use the same TensorFlow graph that was defined above. For each neural network the TensorFlow weights and variables are initialized to random values and then optimized. The variables are then saved to disk so they can be reloaded later.\n",
    "\n",
    "You may want to skip this computation if you just want to re-run the Notebook with different analysis of the results."
   ]
  },
  {
   "cell_type": "code",
   "execution_count": 40,
   "metadata": {},
   "outputs": [
    {
     "name": "stdout",
     "output_type": "stream",
     "text": [
      "Neural network: 0\n",
      "Optimization Iteration:      1, Training Batch Accuracy:  12.5%\n",
      "Optimization Iteration:    101, Training Batch Accuracy:  81.2%\n",
      "Optimization Iteration:    201, Training Batch Accuracy:  92.2%\n",
      "Optimization Iteration:    301, Training Batch Accuracy:  96.9%\n",
      "Optimization Iteration:    401, Training Batch Accuracy:  96.9%\n",
      "Optimization Iteration:    501, Training Batch Accuracy:  93.8%\n",
      "Optimization Iteration:    601, Training Batch Accuracy:  93.8%\n",
      "Optimization Iteration:    701, Training Batch Accuracy:  95.3%\n",
      "Optimization Iteration:    801, Training Batch Accuracy:  93.8%\n",
      "Optimization Iteration:    901, Training Batch Accuracy:  93.8%\n",
      "Optimization Iteration:   1001, Training Batch Accuracy:  98.4%\n",
      "Optimization Iteration:   1101, Training Batch Accuracy:  98.4%\n",
      "Optimization Iteration:   1201, Training Batch Accuracy:  93.8%\n",
      "Optimization Iteration:   1301, Training Batch Accuracy:  96.9%\n",
      "Optimization Iteration:   1401, Training Batch Accuracy: 100.0%\n",
      "Optimization Iteration:   1501, Training Batch Accuracy:  95.3%\n",
      "Optimization Iteration:   1601, Training Batch Accuracy:  98.4%\n",
      "Optimization Iteration:   1701, Training Batch Accuracy: 100.0%\n",
      "Optimization Iteration:   1801, Training Batch Accuracy:  98.4%\n",
      "Optimization Iteration:   1901, Training Batch Accuracy:  98.4%\n",
      "Optimization Iteration:   2001, Training Batch Accuracy:  96.9%\n",
      "Optimization Iteration:   2101, Training Batch Accuracy:  98.4%\n",
      "Optimization Iteration:   2201, Training Batch Accuracy:  92.2%\n",
      "Optimization Iteration:   2301, Training Batch Accuracy: 100.0%\n",
      "Optimization Iteration:   2401, Training Batch Accuracy: 100.0%\n",
      "Optimization Iteration:   2501, Training Batch Accuracy:  98.4%\n",
      "Optimization Iteration:   2601, Training Batch Accuracy: 100.0%\n",
      "Optimization Iteration:   2701, Training Batch Accuracy: 100.0%\n",
      "Optimization Iteration:   2801, Training Batch Accuracy: 100.0%\n",
      "Optimization Iteration:   2901, Training Batch Accuracy:  95.3%\n",
      "Optimization Iteration:   3001, Training Batch Accuracy:  96.9%\n",
      "Optimization Iteration:   3101, Training Batch Accuracy: 100.0%\n",
      "Optimization Iteration:   3201, Training Batch Accuracy: 100.0%\n",
      "Optimization Iteration:   3301, Training Batch Accuracy: 100.0%\n",
      "Optimization Iteration:   3401, Training Batch Accuracy: 100.0%\n",
      "Optimization Iteration:   3501, Training Batch Accuracy: 100.0%\n",
      "Optimization Iteration:   3601, Training Batch Accuracy: 100.0%\n",
      "Optimization Iteration:   3701, Training Batch Accuracy:  98.4%\n",
      "Optimization Iteration:   3801, Training Batch Accuracy:  98.4%\n",
      "Optimization Iteration:   3901, Training Batch Accuracy:  96.9%\n",
      "Optimization Iteration:   4001, Training Batch Accuracy:  98.4%\n",
      "Optimization Iteration:   4101, Training Batch Accuracy: 100.0%\n",
      "Optimization Iteration:   4201, Training Batch Accuracy:  98.4%\n",
      "Optimization Iteration:   4301, Training Batch Accuracy:  98.4%\n",
      "Optimization Iteration:   4401, Training Batch Accuracy:  96.9%\n",
      "Optimization Iteration:   4501, Training Batch Accuracy: 100.0%\n",
      "Optimization Iteration:   4601, Training Batch Accuracy:  98.4%\n",
      "Optimization Iteration:   4701, Training Batch Accuracy: 100.0%\n",
      "Optimization Iteration:   4801, Training Batch Accuracy:  98.4%\n",
      "Optimization Iteration:   4901, Training Batch Accuracy:  98.4%\n",
      "Optimization Iteration:   5001, Training Batch Accuracy:  95.3%\n",
      "Optimization Iteration:   5101, Training Batch Accuracy:  98.4%\n",
      "Optimization Iteration:   5201, Training Batch Accuracy: 100.0%\n",
      "Optimization Iteration:   5301, Training Batch Accuracy: 100.0%\n",
      "Optimization Iteration:   5401, Training Batch Accuracy:  98.4%\n",
      "Optimization Iteration:   5501, Training Batch Accuracy:  98.4%\n",
      "Optimization Iteration:   5601, Training Batch Accuracy:  98.4%\n",
      "Optimization Iteration:   5701, Training Batch Accuracy: 100.0%\n",
      "Optimization Iteration:   5801, Training Batch Accuracy: 100.0%\n",
      "Optimization Iteration:   5901, Training Batch Accuracy: 100.0%\n",
      "Optimization Iteration:   6001, Training Batch Accuracy:  98.4%\n",
      "Optimization Iteration:   6101, Training Batch Accuracy: 100.0%\n",
      "Optimization Iteration:   6201, Training Batch Accuracy:  96.9%\n",
      "Optimization Iteration:   6301, Training Batch Accuracy: 100.0%\n",
      "Optimization Iteration:   6401, Training Batch Accuracy:  96.9%\n",
      "Optimization Iteration:   6501, Training Batch Accuracy: 100.0%\n",
      "Optimization Iteration:   6601, Training Batch Accuracy: 100.0%\n",
      "Optimization Iteration:   6701, Training Batch Accuracy:  96.9%\n",
      "Optimization Iteration:   6801, Training Batch Accuracy: 100.0%\n",
      "Optimization Iteration:   6901, Training Batch Accuracy: 100.0%\n",
      "Optimization Iteration:   7001, Training Batch Accuracy: 100.0%\n",
      "Optimization Iteration:   7101, Training Batch Accuracy:  96.9%\n",
      "Optimization Iteration:   7201, Training Batch Accuracy:  98.4%\n",
      "Optimization Iteration:   7301, Training Batch Accuracy: 100.0%\n",
      "Optimization Iteration:   7401, Training Batch Accuracy: 100.0%\n",
      "Optimization Iteration:   7501, Training Batch Accuracy: 100.0%\n",
      "Optimization Iteration:   7601, Training Batch Accuracy: 100.0%\n",
      "Optimization Iteration:   7701, Training Batch Accuracy:  98.4%\n",
      "Optimization Iteration:   7801, Training Batch Accuracy: 100.0%\n",
      "Optimization Iteration:   7901, Training Batch Accuracy: 100.0%\n",
      "Optimization Iteration:   8001, Training Batch Accuracy:  98.4%\n",
      "Optimization Iteration:   8101, Training Batch Accuracy: 100.0%\n",
      "Optimization Iteration:   8201, Training Batch Accuracy: 100.0%\n",
      "Optimization Iteration:   8301, Training Batch Accuracy: 100.0%\n",
      "Optimization Iteration:   8401, Training Batch Accuracy: 100.0%\n",
      "Optimization Iteration:   8501, Training Batch Accuracy: 100.0%\n",
      "Optimization Iteration:   8601, Training Batch Accuracy:  96.9%\n",
      "Optimization Iteration:   8701, Training Batch Accuracy: 100.0%\n",
      "Optimization Iteration:   8801, Training Batch Accuracy: 100.0%\n",
      "Optimization Iteration:   8901, Training Batch Accuracy: 100.0%\n",
      "Optimization Iteration:   9001, Training Batch Accuracy:  98.4%\n",
      "Optimization Iteration:   9101, Training Batch Accuracy: 100.0%\n",
      "Optimization Iteration:   9201, Training Batch Accuracy: 100.0%\n",
      "Optimization Iteration:   9301, Training Batch Accuracy:  98.4%\n",
      "Optimization Iteration:   9401, Training Batch Accuracy:  98.4%\n",
      "Optimization Iteration:   9501, Training Batch Accuracy: 100.0%\n",
      "Optimization Iteration:   9601, Training Batch Accuracy:  96.9%\n",
      "Optimization Iteration:   9701, Training Batch Accuracy: 100.0%\n",
      "Optimization Iteration:   9801, Training Batch Accuracy: 100.0%\n",
      "Optimization Iteration:   9901, Training Batch Accuracy: 100.0%\n",
      "Time usage: 0:01:26\n",
      "\n",
      "Neural network: 1\n",
      "Optimization Iteration:      1, Training Batch Accuracy:   9.4%\n",
      "Optimization Iteration:    101, Training Batch Accuracy:  79.7%\n",
      "Optimization Iteration:    201, Training Batch Accuracy:  90.6%\n",
      "Optimization Iteration:    301, Training Batch Accuracy:  90.6%\n",
      "Optimization Iteration:    401, Training Batch Accuracy:  96.9%\n",
      "Optimization Iteration:    501, Training Batch Accuracy:  96.9%\n",
      "Optimization Iteration:    601, Training Batch Accuracy:  90.6%\n",
      "Optimization Iteration:    701, Training Batch Accuracy:  93.8%\n",
      "Optimization Iteration:    801, Training Batch Accuracy:  96.9%\n",
      "Optimization Iteration:    901, Training Batch Accuracy:  98.4%\n",
      "Optimization Iteration:   1001, Training Batch Accuracy:  95.3%\n",
      "Optimization Iteration:   1101, Training Batch Accuracy:  96.9%\n",
      "Optimization Iteration:   1201, Training Batch Accuracy:  96.9%\n",
      "Optimization Iteration:   1301, Training Batch Accuracy:  98.4%\n",
      "Optimization Iteration:   1401, Training Batch Accuracy: 100.0%\n",
      "Optimization Iteration:   1501, Training Batch Accuracy:  93.8%\n",
      "Optimization Iteration:   1601, Training Batch Accuracy:  93.8%\n",
      "Optimization Iteration:   1701, Training Batch Accuracy: 100.0%\n",
      "Optimization Iteration:   1801, Training Batch Accuracy:  98.4%\n",
      "Optimization Iteration:   1901, Training Batch Accuracy: 100.0%\n",
      "Optimization Iteration:   2001, Training Batch Accuracy:  95.3%\n",
      "Optimization Iteration:   2101, Training Batch Accuracy:  96.9%\n",
      "Optimization Iteration:   2201, Training Batch Accuracy: 100.0%\n",
      "Optimization Iteration:   2301, Training Batch Accuracy: 100.0%\n",
      "Optimization Iteration:   2401, Training Batch Accuracy: 100.0%\n",
      "Optimization Iteration:   2501, Training Batch Accuracy:  96.9%\n",
      "Optimization Iteration:   2601, Training Batch Accuracy:  96.9%\n",
      "Optimization Iteration:   2701, Training Batch Accuracy:  96.9%\n"
     ]
    },
    {
     "name": "stdout",
     "output_type": "stream",
     "text": [
      "Optimization Iteration:   2801, Training Batch Accuracy: 100.0%\n",
      "Optimization Iteration:   2901, Training Batch Accuracy: 100.0%\n",
      "Optimization Iteration:   3001, Training Batch Accuracy: 100.0%\n",
      "Optimization Iteration:   3101, Training Batch Accuracy:  98.4%\n",
      "Optimization Iteration:   3201, Training Batch Accuracy:  98.4%\n",
      "Optimization Iteration:   3301, Training Batch Accuracy: 100.0%\n",
      "Optimization Iteration:   3401, Training Batch Accuracy: 100.0%\n",
      "Optimization Iteration:   3501, Training Batch Accuracy: 100.0%\n",
      "Optimization Iteration:   3601, Training Batch Accuracy:  98.4%\n",
      "Optimization Iteration:   3701, Training Batch Accuracy: 100.0%\n",
      "Optimization Iteration:   3801, Training Batch Accuracy:  98.4%\n",
      "Optimization Iteration:   3901, Training Batch Accuracy: 100.0%\n",
      "Optimization Iteration:   4001, Training Batch Accuracy:  96.9%\n",
      "Optimization Iteration:   4101, Training Batch Accuracy: 100.0%\n",
      "Optimization Iteration:   4201, Training Batch Accuracy: 100.0%\n",
      "Optimization Iteration:   4301, Training Batch Accuracy: 100.0%\n",
      "Optimization Iteration:   4401, Training Batch Accuracy: 100.0%\n",
      "Optimization Iteration:   4501, Training Batch Accuracy:  98.4%\n",
      "Optimization Iteration:   4601, Training Batch Accuracy:  98.4%\n",
      "Optimization Iteration:   4701, Training Batch Accuracy:  98.4%\n",
      "Optimization Iteration:   4801, Training Batch Accuracy:  98.4%\n",
      "Optimization Iteration:   4901, Training Batch Accuracy: 100.0%\n",
      "Optimization Iteration:   5001, Training Batch Accuracy:  96.9%\n",
      "Optimization Iteration:   5101, Training Batch Accuracy: 100.0%\n",
      "Optimization Iteration:   5201, Training Batch Accuracy:  98.4%\n",
      "Optimization Iteration:   5301, Training Batch Accuracy: 100.0%\n",
      "Optimization Iteration:   5401, Training Batch Accuracy: 100.0%\n",
      "Optimization Iteration:   5501, Training Batch Accuracy:  98.4%\n",
      "Optimization Iteration:   5601, Training Batch Accuracy:  98.4%\n",
      "Optimization Iteration:   5701, Training Batch Accuracy: 100.0%\n",
      "Optimization Iteration:   5801, Training Batch Accuracy: 100.0%\n",
      "Optimization Iteration:   5901, Training Batch Accuracy:  96.9%\n",
      "Optimization Iteration:   6001, Training Batch Accuracy: 100.0%\n",
      "Optimization Iteration:   6101, Training Batch Accuracy: 100.0%\n",
      "Optimization Iteration:   6201, Training Batch Accuracy: 100.0%\n",
      "Optimization Iteration:   6301, Training Batch Accuracy:  98.4%\n",
      "Optimization Iteration:   6401, Training Batch Accuracy:  98.4%\n",
      "Optimization Iteration:   6501, Training Batch Accuracy: 100.0%\n",
      "Optimization Iteration:   6601, Training Batch Accuracy:  98.4%\n",
      "Optimization Iteration:   6701, Training Batch Accuracy: 100.0%\n",
      "Optimization Iteration:   6801, Training Batch Accuracy: 100.0%\n",
      "Optimization Iteration:   6901, Training Batch Accuracy: 100.0%\n",
      "Optimization Iteration:   7001, Training Batch Accuracy: 100.0%\n",
      "Optimization Iteration:   7101, Training Batch Accuracy:  98.4%\n",
      "Optimization Iteration:   7201, Training Batch Accuracy: 100.0%\n",
      "Optimization Iteration:   7301, Training Batch Accuracy: 100.0%\n",
      "Optimization Iteration:   7401, Training Batch Accuracy: 100.0%\n",
      "Optimization Iteration:   7501, Training Batch Accuracy: 100.0%\n",
      "Optimization Iteration:   7601, Training Batch Accuracy:  96.9%\n",
      "Optimization Iteration:   7701, Training Batch Accuracy: 100.0%\n",
      "Optimization Iteration:   7801, Training Batch Accuracy:  98.4%\n",
      "Optimization Iteration:   7901, Training Batch Accuracy: 100.0%\n",
      "Optimization Iteration:   8001, Training Batch Accuracy: 100.0%\n",
      "Optimization Iteration:   8101, Training Batch Accuracy:  98.4%\n",
      "Optimization Iteration:   8201, Training Batch Accuracy: 100.0%\n",
      "Optimization Iteration:   8301, Training Batch Accuracy: 100.0%\n",
      "Optimization Iteration:   8401, Training Batch Accuracy: 100.0%\n",
      "Optimization Iteration:   8501, Training Batch Accuracy: 100.0%\n",
      "Optimization Iteration:   8601, Training Batch Accuracy: 100.0%\n",
      "Optimization Iteration:   8701, Training Batch Accuracy: 100.0%\n",
      "Optimization Iteration:   8801, Training Batch Accuracy: 100.0%\n",
      "Optimization Iteration:   8901, Training Batch Accuracy: 100.0%\n",
      "Optimization Iteration:   9001, Training Batch Accuracy: 100.0%\n",
      "Optimization Iteration:   9101, Training Batch Accuracy:  98.4%\n",
      "Optimization Iteration:   9201, Training Batch Accuracy:  96.9%\n",
      "Optimization Iteration:   9301, Training Batch Accuracy: 100.0%\n",
      "Optimization Iteration:   9401, Training Batch Accuracy:  98.4%\n",
      "Optimization Iteration:   9501, Training Batch Accuracy:  96.9%\n",
      "Optimization Iteration:   9601, Training Batch Accuracy: 100.0%\n",
      "Optimization Iteration:   9701, Training Batch Accuracy: 100.0%\n",
      "Optimization Iteration:   9801, Training Batch Accuracy: 100.0%\n",
      "Optimization Iteration:   9901, Training Batch Accuracy: 100.0%\n",
      "Time usage: 0:01:32\n",
      "\n",
      "Neural network: 2\n",
      "Optimization Iteration:      1, Training Batch Accuracy:   7.8%\n",
      "Optimization Iteration:    101, Training Batch Accuracy:  87.5%\n",
      "Optimization Iteration:    201, Training Batch Accuracy:  85.9%\n",
      "Optimization Iteration:    301, Training Batch Accuracy:  93.8%\n",
      "Optimization Iteration:    401, Training Batch Accuracy:  92.2%\n",
      "Optimization Iteration:    501, Training Batch Accuracy:  89.1%\n",
      "Optimization Iteration:    601, Training Batch Accuracy:  96.9%\n",
      "Optimization Iteration:    701, Training Batch Accuracy:  95.3%\n",
      "Optimization Iteration:    801, Training Batch Accuracy:  90.6%\n",
      "Optimization Iteration:    901, Training Batch Accuracy:  95.3%\n",
      "Optimization Iteration:   1001, Training Batch Accuracy:  98.4%\n",
      "Optimization Iteration:   1101, Training Batch Accuracy:  96.9%\n",
      "Optimization Iteration:   1201, Training Batch Accuracy:  93.8%\n",
      "Optimization Iteration:   1301, Training Batch Accuracy: 100.0%\n",
      "Optimization Iteration:   1401, Training Batch Accuracy:  95.3%\n",
      "Optimization Iteration:   1501, Training Batch Accuracy:  98.4%\n",
      "Optimization Iteration:   1601, Training Batch Accuracy: 100.0%\n",
      "Optimization Iteration:   1701, Training Batch Accuracy:  98.4%\n",
      "Optimization Iteration:   1801, Training Batch Accuracy:  96.9%\n",
      "Optimization Iteration:   1901, Training Batch Accuracy: 100.0%\n",
      "Optimization Iteration:   2001, Training Batch Accuracy:  96.9%\n",
      "Optimization Iteration:   2101, Training Batch Accuracy: 100.0%\n",
      "Optimization Iteration:   2201, Training Batch Accuracy:  93.8%\n",
      "Optimization Iteration:   2301, Training Batch Accuracy:  98.4%\n",
      "Optimization Iteration:   2401, Training Batch Accuracy:  98.4%\n",
      "Optimization Iteration:   2501, Training Batch Accuracy:  98.4%\n",
      "Optimization Iteration:   2601, Training Batch Accuracy:  95.3%\n",
      "Optimization Iteration:   2701, Training Batch Accuracy:  96.9%\n",
      "Optimization Iteration:   2801, Training Batch Accuracy:  96.9%\n",
      "Optimization Iteration:   2901, Training Batch Accuracy:  96.9%\n",
      "Optimization Iteration:   3001, Training Batch Accuracy:  98.4%\n",
      "Optimization Iteration:   3101, Training Batch Accuracy:  98.4%\n",
      "Optimization Iteration:   3201, Training Batch Accuracy: 100.0%\n",
      "Optimization Iteration:   3301, Training Batch Accuracy:  96.9%\n",
      "Optimization Iteration:   3401, Training Batch Accuracy:  95.3%\n",
      "Optimization Iteration:   3501, Training Batch Accuracy: 100.0%\n",
      "Optimization Iteration:   3601, Training Batch Accuracy: 100.0%\n",
      "Optimization Iteration:   3701, Training Batch Accuracy:  98.4%\n",
      "Optimization Iteration:   3801, Training Batch Accuracy:  96.9%\n",
      "Optimization Iteration:   3901, Training Batch Accuracy: 100.0%\n",
      "Optimization Iteration:   4001, Training Batch Accuracy:  96.9%\n",
      "Optimization Iteration:   4101, Training Batch Accuracy: 100.0%\n",
      "Optimization Iteration:   4201, Training Batch Accuracy:  96.9%\n",
      "Optimization Iteration:   4301, Training Batch Accuracy: 100.0%\n",
      "Optimization Iteration:   4401, Training Batch Accuracy:  98.4%\n",
      "Optimization Iteration:   4501, Training Batch Accuracy: 100.0%\n",
      "Optimization Iteration:   4601, Training Batch Accuracy: 100.0%\n",
      "Optimization Iteration:   4701, Training Batch Accuracy: 100.0%\n",
      "Optimization Iteration:   4801, Training Batch Accuracy: 100.0%\n",
      "Optimization Iteration:   4901, Training Batch Accuracy:  98.4%\n",
      "Optimization Iteration:   5001, Training Batch Accuracy: 100.0%\n",
      "Optimization Iteration:   5101, Training Batch Accuracy: 100.0%\n",
      "Optimization Iteration:   5201, Training Batch Accuracy:  98.4%\n",
      "Optimization Iteration:   5301, Training Batch Accuracy:  96.9%\n",
      "Optimization Iteration:   5401, Training Batch Accuracy:  98.4%\n",
      "Optimization Iteration:   5501, Training Batch Accuracy:  98.4%\n"
     ]
    },
    {
     "name": "stdout",
     "output_type": "stream",
     "text": [
      "Optimization Iteration:   5601, Training Batch Accuracy: 100.0%\n",
      "Optimization Iteration:   5701, Training Batch Accuracy: 100.0%\n",
      "Optimization Iteration:   5801, Training Batch Accuracy:  98.4%\n",
      "Optimization Iteration:   5901, Training Batch Accuracy:  98.4%\n",
      "Optimization Iteration:   6001, Training Batch Accuracy: 100.0%\n",
      "Optimization Iteration:   6101, Training Batch Accuracy:  96.9%\n",
      "Optimization Iteration:   6201, Training Batch Accuracy: 100.0%\n",
      "Optimization Iteration:   6301, Training Batch Accuracy:  98.4%\n",
      "Optimization Iteration:   6401, Training Batch Accuracy: 100.0%\n",
      "Optimization Iteration:   6501, Training Batch Accuracy:  98.4%\n",
      "Optimization Iteration:   6601, Training Batch Accuracy: 100.0%\n",
      "Optimization Iteration:   6701, Training Batch Accuracy: 100.0%\n",
      "Optimization Iteration:   6801, Training Batch Accuracy: 100.0%\n",
      "Optimization Iteration:   6901, Training Batch Accuracy: 100.0%\n",
      "Optimization Iteration:   7001, Training Batch Accuracy: 100.0%\n",
      "Optimization Iteration:   7101, Training Batch Accuracy: 100.0%\n",
      "Optimization Iteration:   7201, Training Batch Accuracy: 100.0%\n",
      "Optimization Iteration:   7301, Training Batch Accuracy: 100.0%\n",
      "Optimization Iteration:   7401, Training Batch Accuracy: 100.0%\n",
      "Optimization Iteration:   7501, Training Batch Accuracy: 100.0%\n",
      "Optimization Iteration:   7601, Training Batch Accuracy:  98.4%\n",
      "Optimization Iteration:   7701, Training Batch Accuracy:  96.9%\n",
      "Optimization Iteration:   7801, Training Batch Accuracy:  96.9%\n",
      "Optimization Iteration:   7901, Training Batch Accuracy: 100.0%\n",
      "Optimization Iteration:   8001, Training Batch Accuracy:  98.4%\n",
      "Optimization Iteration:   8101, Training Batch Accuracy: 100.0%\n",
      "Optimization Iteration:   8201, Training Batch Accuracy:  98.4%\n",
      "Optimization Iteration:   8301, Training Batch Accuracy:  98.4%\n",
      "Optimization Iteration:   8401, Training Batch Accuracy: 100.0%\n",
      "Optimization Iteration:   8501, Training Batch Accuracy: 100.0%\n",
      "Optimization Iteration:   8601, Training Batch Accuracy:  96.9%\n",
      "Optimization Iteration:   8701, Training Batch Accuracy: 100.0%\n",
      "Optimization Iteration:   8801, Training Batch Accuracy: 100.0%\n",
      "Optimization Iteration:   8901, Training Batch Accuracy: 100.0%\n",
      "Optimization Iteration:   9001, Training Batch Accuracy: 100.0%\n",
      "Optimization Iteration:   9101, Training Batch Accuracy: 100.0%\n",
      "Optimization Iteration:   9201, Training Batch Accuracy:  98.4%\n",
      "Optimization Iteration:   9301, Training Batch Accuracy: 100.0%\n",
      "Optimization Iteration:   9401, Training Batch Accuracy: 100.0%\n",
      "Optimization Iteration:   9501, Training Batch Accuracy: 100.0%\n",
      "Optimization Iteration:   9601, Training Batch Accuracy: 100.0%\n",
      "Optimization Iteration:   9701, Training Batch Accuracy: 100.0%\n",
      "Optimization Iteration:   9801, Training Batch Accuracy:  98.4%\n",
      "Optimization Iteration:   9901, Training Batch Accuracy: 100.0%\n",
      "Time usage: 0:01:27\n",
      "\n",
      "Neural network: 3\n",
      "Optimization Iteration:      1, Training Batch Accuracy:  15.6%\n",
      "Optimization Iteration:    101, Training Batch Accuracy:  85.9%\n",
      "Optimization Iteration:    201, Training Batch Accuracy:  93.8%\n",
      "Optimization Iteration:    301, Training Batch Accuracy: 100.0%\n",
      "Optimization Iteration:    401, Training Batch Accuracy:  93.8%\n",
      "Optimization Iteration:    501, Training Batch Accuracy:  95.3%\n",
      "Optimization Iteration:    601, Training Batch Accuracy:  92.2%\n",
      "Optimization Iteration:    701, Training Batch Accuracy:  95.3%\n",
      "Optimization Iteration:    801, Training Batch Accuracy:  93.8%\n",
      "Optimization Iteration:    901, Training Batch Accuracy:  96.9%\n",
      "Optimization Iteration:   1001, Training Batch Accuracy:  95.3%\n",
      "Optimization Iteration:   1101, Training Batch Accuracy:  96.9%\n",
      "Optimization Iteration:   1201, Training Batch Accuracy:  93.8%\n",
      "Optimization Iteration:   1301, Training Batch Accuracy: 100.0%\n",
      "Optimization Iteration:   1401, Training Batch Accuracy:  95.3%\n",
      "Optimization Iteration:   1501, Training Batch Accuracy:  93.8%\n",
      "Optimization Iteration:   1601, Training Batch Accuracy:  98.4%\n",
      "Optimization Iteration:   1701, Training Batch Accuracy:  98.4%\n",
      "Optimization Iteration:   1801, Training Batch Accuracy:  95.3%\n",
      "Optimization Iteration:   1901, Training Batch Accuracy: 100.0%\n",
      "Optimization Iteration:   2001, Training Batch Accuracy:  98.4%\n",
      "Optimization Iteration:   2101, Training Batch Accuracy:  96.9%\n",
      "Optimization Iteration:   2201, Training Batch Accuracy:  98.4%\n",
      "Optimization Iteration:   2301, Training Batch Accuracy:  96.9%\n",
      "Optimization Iteration:   2401, Training Batch Accuracy: 100.0%\n",
      "Optimization Iteration:   2501, Training Batch Accuracy: 100.0%\n",
      "Optimization Iteration:   2601, Training Batch Accuracy:  98.4%\n",
      "Optimization Iteration:   2701, Training Batch Accuracy: 100.0%\n",
      "Optimization Iteration:   2801, Training Batch Accuracy:  98.4%\n",
      "Optimization Iteration:   2901, Training Batch Accuracy:  98.4%\n",
      "Optimization Iteration:   3001, Training Batch Accuracy: 100.0%\n",
      "Optimization Iteration:   3101, Training Batch Accuracy:  98.4%\n",
      "Optimization Iteration:   3201, Training Batch Accuracy: 100.0%\n",
      "Optimization Iteration:   3301, Training Batch Accuracy: 100.0%\n",
      "Optimization Iteration:   3401, Training Batch Accuracy:  98.4%\n",
      "Optimization Iteration:   3501, Training Batch Accuracy: 100.0%\n",
      "Optimization Iteration:   3601, Training Batch Accuracy:  96.9%\n",
      "Optimization Iteration:   3701, Training Batch Accuracy:  98.4%\n",
      "Optimization Iteration:   3801, Training Batch Accuracy: 100.0%\n",
      "Optimization Iteration:   3901, Training Batch Accuracy: 100.0%\n",
      "Optimization Iteration:   4001, Training Batch Accuracy: 100.0%\n",
      "Optimization Iteration:   4101, Training Batch Accuracy:  96.9%\n",
      "Optimization Iteration:   4201, Training Batch Accuracy: 100.0%\n",
      "Optimization Iteration:   4301, Training Batch Accuracy: 100.0%\n",
      "Optimization Iteration:   4401, Training Batch Accuracy:  98.4%\n",
      "Optimization Iteration:   4501, Training Batch Accuracy:  98.4%\n",
      "Optimization Iteration:   4601, Training Batch Accuracy: 100.0%\n",
      "Optimization Iteration:   4701, Training Batch Accuracy: 100.0%\n",
      "Optimization Iteration:   4801, Training Batch Accuracy: 100.0%\n",
      "Optimization Iteration:   4901, Training Batch Accuracy: 100.0%\n",
      "Optimization Iteration:   5001, Training Batch Accuracy: 100.0%\n",
      "Optimization Iteration:   5101, Training Batch Accuracy: 100.0%\n",
      "Optimization Iteration:   5201, Training Batch Accuracy: 100.0%\n",
      "Optimization Iteration:   5301, Training Batch Accuracy:  98.4%\n",
      "Optimization Iteration:   5401, Training Batch Accuracy: 100.0%\n",
      "Optimization Iteration:   5501, Training Batch Accuracy:  98.4%\n",
      "Optimization Iteration:   5601, Training Batch Accuracy: 100.0%\n",
      "Optimization Iteration:   5701, Training Batch Accuracy:  98.4%\n",
      "Optimization Iteration:   5801, Training Batch Accuracy:  98.4%\n",
      "Optimization Iteration:   5901, Training Batch Accuracy:  98.4%\n",
      "Optimization Iteration:   6001, Training Batch Accuracy:  98.4%\n",
      "Optimization Iteration:   6101, Training Batch Accuracy: 100.0%\n",
      "Optimization Iteration:   6201, Training Batch Accuracy:  98.4%\n",
      "Optimization Iteration:   6301, Training Batch Accuracy:  98.4%\n",
      "Optimization Iteration:   6401, Training Batch Accuracy: 100.0%\n",
      "Optimization Iteration:   6501, Training Batch Accuracy: 100.0%\n",
      "Optimization Iteration:   6601, Training Batch Accuracy:  96.9%\n",
      "Optimization Iteration:   6701, Training Batch Accuracy: 100.0%\n",
      "Optimization Iteration:   6801, Training Batch Accuracy: 100.0%\n",
      "Optimization Iteration:   6901, Training Batch Accuracy: 100.0%\n",
      "Optimization Iteration:   7001, Training Batch Accuracy: 100.0%\n",
      "Optimization Iteration:   7101, Training Batch Accuracy:  95.3%\n",
      "Optimization Iteration:   7201, Training Batch Accuracy: 100.0%\n",
      "Optimization Iteration:   7301, Training Batch Accuracy: 100.0%\n",
      "Optimization Iteration:   7401, Training Batch Accuracy: 100.0%\n",
      "Optimization Iteration:   7501, Training Batch Accuracy: 100.0%\n",
      "Optimization Iteration:   7601, Training Batch Accuracy: 100.0%\n",
      "Optimization Iteration:   7701, Training Batch Accuracy: 100.0%\n",
      "Optimization Iteration:   7801, Training Batch Accuracy: 100.0%\n",
      "Optimization Iteration:   7901, Training Batch Accuracy:  98.4%\n",
      "Optimization Iteration:   8001, Training Batch Accuracy:  98.4%\n",
      "Optimization Iteration:   8101, Training Batch Accuracy: 100.0%\n",
      "Optimization Iteration:   8201, Training Batch Accuracy:  96.9%\n",
      "Optimization Iteration:   8301, Training Batch Accuracy: 100.0%\n"
     ]
    },
    {
     "name": "stdout",
     "output_type": "stream",
     "text": [
      "Optimization Iteration:   8401, Training Batch Accuracy: 100.0%\n",
      "Optimization Iteration:   8501, Training Batch Accuracy: 100.0%\n",
      "Optimization Iteration:   8601, Training Batch Accuracy:  98.4%\n",
      "Optimization Iteration:   8701, Training Batch Accuracy: 100.0%\n",
      "Optimization Iteration:   8801, Training Batch Accuracy:  98.4%\n",
      "Optimization Iteration:   8901, Training Batch Accuracy:  98.4%\n",
      "Optimization Iteration:   9001, Training Batch Accuracy: 100.0%\n",
      "Optimization Iteration:   9101, Training Batch Accuracy: 100.0%\n",
      "Optimization Iteration:   9201, Training Batch Accuracy: 100.0%\n",
      "Optimization Iteration:   9301, Training Batch Accuracy: 100.0%\n",
      "Optimization Iteration:   9401, Training Batch Accuracy: 100.0%\n",
      "Optimization Iteration:   9501, Training Batch Accuracy: 100.0%\n",
      "Optimization Iteration:   9601, Training Batch Accuracy: 100.0%\n",
      "Optimization Iteration:   9701, Training Batch Accuracy: 100.0%\n",
      "Optimization Iteration:   9801, Training Batch Accuracy: 100.0%\n",
      "Optimization Iteration:   9901, Training Batch Accuracy:  98.4%\n",
      "Time usage: 0:01:32\n",
      "\n",
      "Neural network: 4\n",
      "Optimization Iteration:      1, Training Batch Accuracy:   9.4%\n",
      "Optimization Iteration:    101, Training Batch Accuracy:  90.6%\n",
      "Optimization Iteration:    201, Training Batch Accuracy:  98.4%\n",
      "Optimization Iteration:    301, Training Batch Accuracy:  92.2%\n",
      "Optimization Iteration:    401, Training Batch Accuracy:  90.6%\n",
      "Optimization Iteration:    501, Training Batch Accuracy:  93.8%\n",
      "Optimization Iteration:    601, Training Batch Accuracy:  92.2%\n",
      "Optimization Iteration:    701, Training Batch Accuracy:  92.2%\n",
      "Optimization Iteration:    801, Training Batch Accuracy:  96.9%\n",
      "Optimization Iteration:    901, Training Batch Accuracy:  96.9%\n",
      "Optimization Iteration:   1001, Training Batch Accuracy:  92.2%\n",
      "Optimization Iteration:   1101, Training Batch Accuracy:  92.2%\n",
      "Optimization Iteration:   1201, Training Batch Accuracy:  93.8%\n",
      "Optimization Iteration:   1301, Training Batch Accuracy:  98.4%\n",
      "Optimization Iteration:   1401, Training Batch Accuracy:  98.4%\n",
      "Optimization Iteration:   1501, Training Batch Accuracy:  98.4%\n",
      "Optimization Iteration:   1601, Training Batch Accuracy:  98.4%\n",
      "Optimization Iteration:   1701, Training Batch Accuracy: 100.0%\n",
      "Optimization Iteration:   1801, Training Batch Accuracy: 100.0%\n",
      "Optimization Iteration:   1901, Training Batch Accuracy:  93.8%\n",
      "Optimization Iteration:   2001, Training Batch Accuracy:  96.9%\n",
      "Optimization Iteration:   2101, Training Batch Accuracy: 100.0%\n",
      "Optimization Iteration:   2201, Training Batch Accuracy:  96.9%\n",
      "Optimization Iteration:   2301, Training Batch Accuracy:  98.4%\n",
      "Optimization Iteration:   2401, Training Batch Accuracy:  98.4%\n",
      "Optimization Iteration:   2501, Training Batch Accuracy:  98.4%\n",
      "Optimization Iteration:   2601, Training Batch Accuracy:  96.9%\n",
      "Optimization Iteration:   2701, Training Batch Accuracy:  98.4%\n",
      "Optimization Iteration:   2801, Training Batch Accuracy:  98.4%\n",
      "Optimization Iteration:   2901, Training Batch Accuracy:  96.9%\n",
      "Optimization Iteration:   3001, Training Batch Accuracy: 100.0%\n",
      "Optimization Iteration:   3101, Training Batch Accuracy: 100.0%\n",
      "Optimization Iteration:   3201, Training Batch Accuracy:  98.4%\n",
      "Optimization Iteration:   3301, Training Batch Accuracy: 100.0%\n",
      "Optimization Iteration:   3401, Training Batch Accuracy:  96.9%\n",
      "Optimization Iteration:   3501, Training Batch Accuracy:  96.9%\n",
      "Optimization Iteration:   3601, Training Batch Accuracy:  95.3%\n",
      "Optimization Iteration:   3701, Training Batch Accuracy: 100.0%\n",
      "Optimization Iteration:   3801, Training Batch Accuracy: 100.0%\n",
      "Optimization Iteration:   3901, Training Batch Accuracy: 100.0%\n",
      "Optimization Iteration:   4001, Training Batch Accuracy: 100.0%\n",
      "Optimization Iteration:   4101, Training Batch Accuracy: 100.0%\n",
      "Optimization Iteration:   4201, Training Batch Accuracy: 100.0%\n",
      "Optimization Iteration:   4301, Training Batch Accuracy: 100.0%\n",
      "Optimization Iteration:   4401, Training Batch Accuracy: 100.0%\n",
      "Optimization Iteration:   4501, Training Batch Accuracy:  95.3%\n",
      "Optimization Iteration:   4601, Training Batch Accuracy: 100.0%\n",
      "Optimization Iteration:   4701, Training Batch Accuracy: 100.0%\n",
      "Optimization Iteration:   4801, Training Batch Accuracy: 100.0%\n",
      "Optimization Iteration:   4901, Training Batch Accuracy:  98.4%\n",
      "Optimization Iteration:   5001, Training Batch Accuracy:  96.9%\n",
      "Optimization Iteration:   5101, Training Batch Accuracy:  98.4%\n",
      "Optimization Iteration:   5201, Training Batch Accuracy:  95.3%\n",
      "Optimization Iteration:   5301, Training Batch Accuracy: 100.0%\n",
      "Optimization Iteration:   5401, Training Batch Accuracy: 100.0%\n",
      "Optimization Iteration:   5501, Training Batch Accuracy:  98.4%\n",
      "Optimization Iteration:   5601, Training Batch Accuracy:  98.4%\n",
      "Optimization Iteration:   5701, Training Batch Accuracy: 100.0%\n",
      "Optimization Iteration:   5801, Training Batch Accuracy:  98.4%\n",
      "Optimization Iteration:   5901, Training Batch Accuracy:  96.9%\n",
      "Optimization Iteration:   6001, Training Batch Accuracy:  98.4%\n",
      "Optimization Iteration:   6101, Training Batch Accuracy: 100.0%\n",
      "Optimization Iteration:   6201, Training Batch Accuracy:  98.4%\n",
      "Optimization Iteration:   6301, Training Batch Accuracy:  98.4%\n",
      "Optimization Iteration:   6401, Training Batch Accuracy:  98.4%\n",
      "Optimization Iteration:   6501, Training Batch Accuracy: 100.0%\n",
      "Optimization Iteration:   6601, Training Batch Accuracy:  98.4%\n",
      "Optimization Iteration:   6701, Training Batch Accuracy:  98.4%\n",
      "Optimization Iteration:   6801, Training Batch Accuracy: 100.0%\n",
      "Optimization Iteration:   6901, Training Batch Accuracy: 100.0%\n",
      "Optimization Iteration:   7001, Training Batch Accuracy:  98.4%\n",
      "Optimization Iteration:   7101, Training Batch Accuracy: 100.0%\n",
      "Optimization Iteration:   7201, Training Batch Accuracy:  96.9%\n",
      "Optimization Iteration:   7301, Training Batch Accuracy: 100.0%\n",
      "Optimization Iteration:   7401, Training Batch Accuracy:  98.4%\n",
      "Optimization Iteration:   7501, Training Batch Accuracy:  96.9%\n",
      "Optimization Iteration:   7601, Training Batch Accuracy:  98.4%\n",
      "Optimization Iteration:   7701, Training Batch Accuracy: 100.0%\n",
      "Optimization Iteration:   7801, Training Batch Accuracy:  98.4%\n",
      "Optimization Iteration:   7901, Training Batch Accuracy: 100.0%\n",
      "Optimization Iteration:   8001, Training Batch Accuracy: 100.0%\n",
      "Optimization Iteration:   8101, Training Batch Accuracy: 100.0%\n",
      "Optimization Iteration:   8201, Training Batch Accuracy: 100.0%\n",
      "Optimization Iteration:   8301, Training Batch Accuracy:  96.9%\n",
      "Optimization Iteration:   8401, Training Batch Accuracy:  98.4%\n",
      "Optimization Iteration:   8501, Training Batch Accuracy: 100.0%\n",
      "Optimization Iteration:   8601, Training Batch Accuracy: 100.0%\n",
      "Optimization Iteration:   8701, Training Batch Accuracy:  98.4%\n",
      "Optimization Iteration:   8801, Training Batch Accuracy:  98.4%\n",
      "Optimization Iteration:   8901, Training Batch Accuracy: 100.0%\n",
      "Optimization Iteration:   9001, Training Batch Accuracy: 100.0%\n",
      "Optimization Iteration:   9101, Training Batch Accuracy:  96.9%\n",
      "Optimization Iteration:   9201, Training Batch Accuracy:  98.4%\n",
      "Optimization Iteration:   9301, Training Batch Accuracy:  98.4%\n",
      "Optimization Iteration:   9401, Training Batch Accuracy: 100.0%\n",
      "Optimization Iteration:   9501, Training Batch Accuracy: 100.0%\n",
      "Optimization Iteration:   9601, Training Batch Accuracy:  98.4%\n",
      "Optimization Iteration:   9701, Training Batch Accuracy: 100.0%\n",
      "Optimization Iteration:   9801, Training Batch Accuracy: 100.0%\n",
      "Optimization Iteration:   9901, Training Batch Accuracy:  96.9%\n",
      "Time usage: 0:01:29\n",
      "\n"
     ]
    }
   ],
   "source": [
    "if True:\n",
    "    # For each of the neural networks.\n",
    "    for i in range(num_networks):\n",
    "        print(\"Neural network: {0}\".format(i))\n",
    "\n",
    "        # Create a random training-set. Ignore the validation-set.\n",
    "        x_train, y_train, _, _ = random_training_set()\n",
    "\n",
    "        # Initialize the variables of the TensorFlow graph.\n",
    "        session.run(tf.global_variables_initializer())\n",
    "\n",
    "        # Optimize the variables using this training-set.\n",
    "        optimize(num_iterations=num_iterations,\n",
    "                 x_train=x_train,\n",
    "                 y_train=y_train)\n",
    "\n",
    "        # Save the optimized variables to disk.\n",
    "        saver.save(sess=session, save_path=get_save_path(i))\n",
    "\n",
    "        # Print newline.\n",
    "        print()"
   ]
  },
  {
   "cell_type": "markdown",
   "metadata": {},
   "source": [
    "<h3 style=\"color:#45A046;\">Helper-Functions for Calculating and Predicting Classifications</h3>\n",
    "\n",
    "This function calculates the predicted labels of images, that is, for each image it calculates a vector of length 10 indicating which of the 10 classes the image is.\n",
    "\n",
    "The calculation is done in batches because it might use too much RAM otherwise. If your computer crashes then you can try and lower the batch-size."
   ]
  },
  {
   "cell_type": "code",
   "execution_count": 41,
   "metadata": {
    "collapsed": true
   },
   "outputs": [],
   "source": [
    "# Split the data-set in batches of this size to limit RAM usage.\n",
    "batch_size = 256\n",
    "\n",
    "def predict_labels(images):\n",
    "    # Number of images.\n",
    "    num_images = len(images)\n",
    "\n",
    "    # Allocate an array for the predicted labels which\n",
    "    # will be calculated in batches and filled into this array.\n",
    "    pred_labels = np.zeros(shape=(num_images, num_classes),\n",
    "                           dtype=np.float)\n",
    "\n",
    "    # Now calculate the predicted labels for the batches.\n",
    "    # We will just iterate through all the batches.\n",
    "    # There might be a more clever and Pythonic way of doing this.\n",
    "\n",
    "    # The starting index for the next batch is denoted i.\n",
    "    i = 0\n",
    "\n",
    "    while i < num_images:\n",
    "        # The ending index for the next batch is denoted j.\n",
    "        j = min(i + batch_size, num_images)\n",
    "\n",
    "        # Create a feed-dict with the images between index i and j.\n",
    "        feed_dict = {x: images[i:j, :]}\n",
    "\n",
    "        # Calculate the predicted labels using TensorFlow.\n",
    "        pred_labels[i:j] = session.run(y_pred, feed_dict=feed_dict)\n",
    "\n",
    "        # Set the start-index for the next batch to the\n",
    "        # end-index of the current batch.\n",
    "        i = j\n",
    "\n",
    "    return pred_labels"
   ]
  },
  {
   "cell_type": "markdown",
   "metadata": {},
   "source": [
    "Calculate a boolean array whether the predicted classes for the images are correct."
   ]
  },
  {
   "cell_type": "code",
   "execution_count": 42,
   "metadata": {
    "collapsed": true
   },
   "outputs": [],
   "source": [
    "def correct_prediction(images, labels, cls_true):\n",
    "    # Calculate the predicted labels.\n",
    "    pred_labels = predict_labels(images=images)\n",
    "\n",
    "    # Calculate the predicted class-number for each image.\n",
    "    cls_pred = np.argmax(pred_labels, axis=1)\n",
    "\n",
    "    # Create a boolean array whether each image is correctly classified.\n",
    "    correct = (cls_true == cls_pred)\n",
    "\n",
    "    return correct"
   ]
  },
  {
   "cell_type": "markdown",
   "metadata": {},
   "source": [
    "Calculate a boolean array whether the images in the test-set are classified correctly."
   ]
  },
  {
   "cell_type": "code",
   "execution_count": 43,
   "metadata": {
    "collapsed": true
   },
   "outputs": [],
   "source": [
    "def test_correct():\n",
    "    return correct_prediction(images = data.test.images,\n",
    "                              labels = data.test.labels,\n",
    "                              cls_true = data.test.cls)"
   ]
  },
  {
   "cell_type": "markdown",
   "metadata": {},
   "source": [
    "Calculate a boolean array whether the images in the validation-set are classified correctly."
   ]
  },
  {
   "cell_type": "code",
   "execution_count": 44,
   "metadata": {
    "collapsed": true
   },
   "outputs": [],
   "source": [
    "def validation_correct():\n",
    "    return correct_prediction(images = data.validation.images,\n",
    "                              labels = data.validation.labels,\n",
    "                              cls_true = data.validation.cls)"
   ]
  },
  {
   "cell_type": "markdown",
   "metadata": {},
   "source": [
    "<h3 style=\"color:#45A046;\">Helper-Functions for Calculating the Classification Accuracy</h3>\n",
    "\n",
    "This function calculates the classification accuracy given a boolean array whether each image was correctly classified. E.g. `classification_accuracy([True, True, False, False, False]) = 2/5 = 0.4`"
   ]
  },
  {
   "cell_type": "code",
   "execution_count": 45,
   "metadata": {
    "collapsed": true
   },
   "outputs": [],
   "source": [
    "def classification_accuracy(correct):\n",
    "    # When averaging a boolean array, False means 0 and True means 1.\n",
    "    # So we are calculating: number of True / len(correct) which is\n",
    "    # the same as the classification accuracy.\n",
    "    return correct.mean()"
   ]
  },
  {
   "cell_type": "markdown",
   "metadata": {},
   "source": [
    "Calculate the classification accuracy on the test-set."
   ]
  },
  {
   "cell_type": "code",
   "execution_count": 46,
   "metadata": {
    "collapsed": true
   },
   "outputs": [],
   "source": [
    "def test_accuracy():\n",
    "    # Get the array of booleans whether the classifications are correct\n",
    "    # for the test-set.\n",
    "    correct = test_correct()\n",
    "    \n",
    "    # Calculate the classification accuracy and return it.\n",
    "    return classification_accuracy(correct)"
   ]
  },
  {
   "cell_type": "markdown",
   "metadata": {},
   "source": [
    "Calculate the classification accuracy on the original validation-set."
   ]
  },
  {
   "cell_type": "code",
   "execution_count": 47,
   "metadata": {
    "collapsed": true
   },
   "outputs": [],
   "source": [
    "def validation_accuracy():\n",
    "    # Get the array of booleans whether the classifications are correct\n",
    "    # for the validation-set.\n",
    "    correct = validation_correct()\n",
    "    \n",
    "    # Calculate the classification accuracy and return it.\n",
    "    return classification_accuracy(correct)"
   ]
  },
  {
   "cell_type": "markdown",
   "metadata": {},
   "source": [
    "<div style=\"background-color:#0B8261; width:100%; height:38px; color:white; font-size:18px; padding:10px;\" id=\"Results-and-Analysis\">\n",
    "RESULTS AND ANALYSIS\n",
    "</div>\n",
    "\n",
    "Function for calculating the predicted labels for all the neural networks in the ensemble. The labels are combined further below."
   ]
  },
  {
   "cell_type": "code",
   "execution_count": 48,
   "metadata": {
    "collapsed": true
   },
   "outputs": [],
   "source": [
    "def ensemble_predictions():\n",
    "    # Empty list of predicted labels for each of the neural networks.\n",
    "    pred_labels = []\n",
    "\n",
    "    # Classification accuracy on the test-set for each network.\n",
    "    test_accuracies = []\n",
    "\n",
    "    # Classification accuracy on the validation-set for each network.\n",
    "    val_accuracies = []\n",
    "\n",
    "    # For each neural network in the ensemble.\n",
    "    for i in range(num_networks):\n",
    "        # Reload the variables into the TensorFlow graph.\n",
    "        saver.restore(sess=session, save_path=get_save_path(i))\n",
    "\n",
    "        # Calculate the classification accuracy on the test-set.\n",
    "        test_acc = test_accuracy()\n",
    "\n",
    "        # Append the classification accuracy to the list.\n",
    "        test_accuracies.append(test_acc)\n",
    "\n",
    "        # Calculate the classification accuracy on the validation-set.\n",
    "        val_acc = validation_accuracy()\n",
    "\n",
    "        # Append the classification accuracy to the list.\n",
    "        val_accuracies.append(val_acc)\n",
    "\n",
    "        # Print status message.\n",
    "        msg = \"Network: {0}, Accuracy on Validation-Set: {1:.4f}, Test-Set: {2:.4f}\"\n",
    "        print(msg.format(i, val_acc, test_acc))\n",
    "\n",
    "        # Calculate the predicted labels for the images in the test-set.\n",
    "        # This is already calculated in test_accuracy() above but\n",
    "        # it is re-calculated here to keep the code a bit simpler.\n",
    "        pred = predict_labels(images=data.test.images)\n",
    "\n",
    "        # Append the predicted labels to the list.\n",
    "        pred_labels.append(pred)\n",
    "    \n",
    "    return np.array(pred_labels), \\\n",
    "           np.array(test_accuracies), \\\n",
    "           np.array(val_accuracies)"
   ]
  },
  {
   "cell_type": "code",
   "execution_count": 49,
   "metadata": {
    "scrolled": true
   },
   "outputs": [
    {
     "name": "stdout",
     "output_type": "stream",
     "text": [
      "INFO:tensorflow:Restoring parameters from data/checkpoints/network0\n",
      "Network: 0, Accuracy on Validation-Set: 0.9948, Test-Set: 0.9894\n",
      "INFO:tensorflow:Restoring parameters from data/checkpoints/network1\n",
      "Network: 1, Accuracy on Validation-Set: 0.9938, Test-Set: 0.9886\n",
      "INFO:tensorflow:Restoring parameters from data/checkpoints/network2\n",
      "Network: 2, Accuracy on Validation-Set: 0.9934, Test-Set: 0.9876\n",
      "INFO:tensorflow:Restoring parameters from data/checkpoints/network3\n",
      "Network: 3, Accuracy on Validation-Set: 0.9950, Test-Set: 0.9885\n",
      "INFO:tensorflow:Restoring parameters from data/checkpoints/network4\n",
      "Network: 4, Accuracy on Validation-Set: 0.9944, Test-Set: 0.9876\n"
     ]
    }
   ],
   "source": [
    "pred_labels, test_accuracies, val_accuracies = ensemble_predictions()"
   ]
  },
  {
   "cell_type": "markdown",
   "metadata": {},
   "source": [
    "Summarize the classification accuracies on the test-set for the neural networks in the ensemble."
   ]
  },
  {
   "cell_type": "code",
   "execution_count": 50,
   "metadata": {},
   "outputs": [
    {
     "name": "stdout",
     "output_type": "stream",
     "text": [
      "Mean test-set accuracy: 0.9883\n",
      "Min test-set accuracy:  0.9876\n",
      "Max test-set accuracy:  0.9894\n"
     ]
    }
   ],
   "source": [
    "print(\"Mean test-set accuracy: {0:.4f}\".format(np.mean(test_accuracies)))\n",
    "print(\"Min test-set accuracy:  {0:.4f}\".format(np.min(test_accuracies)))\n",
    "print(\"Max test-set accuracy:  {0:.4f}\".format(np.max(test_accuracies)))"
   ]
  },
  {
   "cell_type": "markdown",
   "metadata": {},
   "source": [
    "The predicted labels of the ensemble is a 3-dim array, the first dim is the network-number, the second dim is the image-number, the third dim is the classification vector."
   ]
  },
  {
   "cell_type": "code",
   "execution_count": 51,
   "metadata": {
    "scrolled": true
   },
   "outputs": [
    {
     "data": {
      "text/plain": [
       "(5, 10000, 10)"
      ]
     },
     "execution_count": 51,
     "metadata": {},
     "output_type": "execute_result"
    }
   ],
   "source": [
    "pred_labels.shape"
   ]
  },
  {
   "cell_type": "markdown",
   "metadata": {},
   "source": [
    "<div style=\"background-color:#0B8261; width:100%; height:38px; color:white; font-size:18px; padding:10px;\" id=\"Ensemble-Predictions\">\n",
    "ENSEMBLE PREDICTIONS\n",
    "</div>"
   ]
  },
  {
   "cell_type": "markdown",
   "metadata": {},
   "source": [
    "There are different ways to calculate the predicted labels for the ensemble. One way is to calculate the predicted class-number for each neural network, and then select the class-number with most votes. But this requires a large number of neural networks relative to the number of classes.\n",
    "\n",
    "The method used here is instead to take the average of the predicted labels for all the networks in the ensemble. This is simple to calculate and does not require a large number of networks in the ensemble."
   ]
  },
  {
   "cell_type": "code",
   "execution_count": 52,
   "metadata": {},
   "outputs": [
    {
     "data": {
      "text/plain": [
       "(10000, 10)"
      ]
     },
     "execution_count": 52,
     "metadata": {},
     "output_type": "execute_result"
    }
   ],
   "source": [
    "ensemble_pred_labels = np.mean(pred_labels, axis=0)\n",
    "ensemble_pred_labels.shape"
   ]
  },
  {
   "cell_type": "markdown",
   "metadata": {},
   "source": [
    "The ensemble's predicted class number is then the index of the highest number in the label, which is calculated using argmax as usual."
   ]
  },
  {
   "cell_type": "code",
   "execution_count": 53,
   "metadata": {},
   "outputs": [
    {
     "data": {
      "text/plain": [
       "(10000,)"
      ]
     },
     "execution_count": 53,
     "metadata": {},
     "output_type": "execute_result"
    }
   ],
   "source": [
    "ensemble_cls_pred = np.argmax(ensemble_pred_labels, axis=1)\n",
    "ensemble_cls_pred.shape"
   ]
  },
  {
   "cell_type": "markdown",
   "metadata": {},
   "source": [
    "Boolean array whether each of the images in the test-set was correctly classified by the ensemble of neural networks."
   ]
  },
  {
   "cell_type": "code",
   "execution_count": 54,
   "metadata": {
    "collapsed": true
   },
   "outputs": [],
   "source": [
    "ensemble_correct = (ensemble_cls_pred == data.test.cls)"
   ]
  },
  {
   "cell_type": "markdown",
   "metadata": {},
   "source": [
    "Negate the boolean array so we can use it to lookup incorrectly classified images."
   ]
  },
  {
   "cell_type": "code",
   "execution_count": 55,
   "metadata": {
    "collapsed": true
   },
   "outputs": [],
   "source": [
    "ensemble_incorrect = np.logical_not(ensemble_correct)"
   ]
  },
  {
   "cell_type": "markdown",
   "metadata": {},
   "source": [
    "<div style=\"background-color:#0B8261; width:100%; height:38px; color:white; font-size:18px; padding:10px;\" id=\"Best-Neural-Net\">\n",
    "BEST NEURAL NETWORK\n",
    "</div>\n",
    "\n",
    "Now we find the single neural network that performed best on the test-set.\n",
    "\n",
    "First list the classification accuracies on the test-set for all the neural networks in the ensemble."
   ]
  },
  {
   "cell_type": "code",
   "execution_count": 56,
   "metadata": {},
   "outputs": [
    {
     "data": {
      "text/plain": [
       "array([0.9894, 0.9886, 0.9876, 0.9885, 0.9876])"
      ]
     },
     "execution_count": 56,
     "metadata": {},
     "output_type": "execute_result"
    }
   ],
   "source": [
    "test_accuracies"
   ]
  },
  {
   "cell_type": "markdown",
   "metadata": {},
   "source": [
    "The index of the neural network with the highest classification accuracy."
   ]
  },
  {
   "cell_type": "code",
   "execution_count": 57,
   "metadata": {},
   "outputs": [
    {
     "data": {
      "text/plain": [
       "0"
      ]
     },
     "execution_count": 57,
     "metadata": {},
     "output_type": "execute_result"
    }
   ],
   "source": [
    "best_net = np.argmax(test_accuracies)\n",
    "best_net"
   ]
  },
  {
   "cell_type": "markdown",
   "metadata": {},
   "source": [
    "The best neural network's classification accuracy on the test-set."
   ]
  },
  {
   "cell_type": "code",
   "execution_count": 58,
   "metadata": {},
   "outputs": [
    {
     "data": {
      "text/plain": [
       "0.9894"
      ]
     },
     "execution_count": 58,
     "metadata": {},
     "output_type": "execute_result"
    }
   ],
   "source": [
    "test_accuracies[best_net]"
   ]
  },
  {
   "cell_type": "markdown",
   "metadata": {},
   "source": [
    "Predicted labels of the best neural network."
   ]
  },
  {
   "cell_type": "code",
   "execution_count": 59,
   "metadata": {
    "collapsed": true
   },
   "outputs": [],
   "source": [
    "best_net_pred_labels = pred_labels[best_net, :, :]"
   ]
  },
  {
   "cell_type": "markdown",
   "metadata": {},
   "source": [
    "The predicted class-number."
   ]
  },
  {
   "cell_type": "code",
   "execution_count": 60,
   "metadata": {
    "collapsed": true
   },
   "outputs": [],
   "source": [
    "best_net_cls_pred = np.argmax(best_net_pred_labels, axis=1)"
   ]
  },
  {
   "cell_type": "markdown",
   "metadata": {},
   "source": [
    "Boolean array whether the best neural network classified each image in the test-set correctly."
   ]
  },
  {
   "cell_type": "code",
   "execution_count": 61,
   "metadata": {
    "collapsed": true
   },
   "outputs": [],
   "source": [
    "best_net_correct = (best_net_cls_pred == data.test.cls)"
   ]
  },
  {
   "cell_type": "markdown",
   "metadata": {},
   "source": [
    "Boolean array whether each image is incorrectly classified."
   ]
  },
  {
   "cell_type": "code",
   "execution_count": 62,
   "metadata": {
    "collapsed": true
   },
   "outputs": [],
   "source": [
    "best_net_incorrect = np.logical_not(best_net_correct)"
   ]
  },
  {
   "cell_type": "markdown",
   "metadata": {},
   "source": [
    "<div style=\"background-color:#0B8261; width:100%; height:38px; color:white; font-size:18px; padding:10px;\" id=\"Ensemble-vs-Best-Single\">\n",
    "ENSEMBLE vs BEST SINGLE NETWORK\n",
    "</div>"
   ]
  },
  {
   "cell_type": "markdown",
   "metadata": {},
   "source": [
    "The number of images in the test-set that were correctly classified by the ensemble."
   ]
  },
  {
   "cell_type": "code",
   "execution_count": 63,
   "metadata": {},
   "outputs": [
    {
     "data": {
      "text/plain": [
       "9916"
      ]
     },
     "execution_count": 63,
     "metadata": {},
     "output_type": "execute_result"
    }
   ],
   "source": [
    "np.sum(ensemble_correct)"
   ]
  },
  {
   "cell_type": "markdown",
   "metadata": {},
   "source": [
    "The number of images in the test-set that were correctly classified by the best neural network."
   ]
  },
  {
   "cell_type": "code",
   "execution_count": 64,
   "metadata": {},
   "outputs": [
    {
     "data": {
      "text/plain": [
       "9894"
      ]
     },
     "execution_count": 64,
     "metadata": {},
     "output_type": "execute_result"
    }
   ],
   "source": [
    "np.sum(best_net_correct)"
   ]
  },
  {
   "cell_type": "markdown",
   "metadata": {},
   "source": [
    "Boolean array whether each image in the test-set was correctly classified by the ensemble and incorrectly classified by the best neural network."
   ]
  },
  {
   "cell_type": "code",
   "execution_count": 65,
   "metadata": {
    "collapsed": true
   },
   "outputs": [],
   "source": [
    "ensemble_better = np.logical_and(best_net_incorrect,\n",
    "                                 ensemble_correct)"
   ]
  },
  {
   "cell_type": "markdown",
   "metadata": {},
   "source": [
    "Number of images in the test-set where the ensemble was better than the best single network:"
   ]
  },
  {
   "cell_type": "code",
   "execution_count": 66,
   "metadata": {
    "scrolled": true
   },
   "outputs": [
    {
     "data": {
      "text/plain": [
       "37"
      ]
     },
     "execution_count": 66,
     "metadata": {},
     "output_type": "execute_result"
    }
   ],
   "source": [
    "ensemble_better.sum()"
   ]
  },
  {
   "cell_type": "markdown",
   "metadata": {},
   "source": [
    "Boolean array whether each image in the test-set was correctly classified by the best single network and incorrectly classified by the ensemble."
   ]
  },
  {
   "cell_type": "code",
   "execution_count": 67,
   "metadata": {
    "collapsed": true
   },
   "outputs": [],
   "source": [
    "best_net_better = np.logical_and(best_net_correct,\n",
    "                                 ensemble_incorrect)"
   ]
  },
  {
   "cell_type": "markdown",
   "metadata": {},
   "source": [
    "Number of images in the test-set where the best single network was better than the ensemble."
   ]
  },
  {
   "cell_type": "code",
   "execution_count": 68,
   "metadata": {
    "scrolled": true
   },
   "outputs": [
    {
     "data": {
      "text/plain": [
       "15"
      ]
     },
     "execution_count": 68,
     "metadata": {},
     "output_type": "execute_result"
    }
   ],
   "source": [
    "best_net_better.sum()"
   ]
  },
  {
   "cell_type": "markdown",
   "metadata": {},
   "source": [
    "<h3 style=\"color:#45A046;\">Helper-Functions for Plotting and Printing Comparisons</h3>"
   ]
  },
  {
   "cell_type": "markdown",
   "metadata": {},
   "source": [
    "Function for plotting images from the test-set and their true and predicted class-numbers."
   ]
  },
  {
   "cell_type": "code",
   "execution_count": 69,
   "metadata": {
    "collapsed": true
   },
   "outputs": [],
   "source": [
    "def plot_images_comparison(idx):\n",
    "    plot_images(images=data.test.images[idx, :],\n",
    "                cls_true=data.test.cls[idx],\n",
    "                ensemble_cls_pred=ensemble_cls_pred[idx],\n",
    "                best_cls_pred=best_net_cls_pred[idx])"
   ]
  },
  {
   "cell_type": "markdown",
   "metadata": {},
   "source": [
    "Function for printing the predicted labels."
   ]
  },
  {
   "cell_type": "code",
   "execution_count": 70,
   "metadata": {
    "collapsed": true
   },
   "outputs": [],
   "source": [
    "def print_labels(labels, idx, num=1):\n",
    "    # Select the relevant labels based on idx.\n",
    "    labels = labels[idx, :]\n",
    "\n",
    "    # Select the first num labels.\n",
    "    labels = labels[0:num, :]\n",
    "    \n",
    "    # Round numbers to 2 decimal points so they are easier to read.\n",
    "    labels_rounded = np.round(labels, 2)\n",
    "\n",
    "    # Print the rounded labels.\n",
    "    print(labels_rounded)"
   ]
  },
  {
   "cell_type": "markdown",
   "metadata": {},
   "source": [
    "Function for printing the predicted labels for the ensemble of neural networks."
   ]
  },
  {
   "cell_type": "code",
   "execution_count": 71,
   "metadata": {
    "collapsed": true
   },
   "outputs": [],
   "source": [
    "def print_labels_ensemble(idx, **kwargs):\n",
    "    print_labels(labels=ensemble_pred_labels, idx=idx, **kwargs)"
   ]
  },
  {
   "cell_type": "markdown",
   "metadata": {},
   "source": [
    "Function for printing the predicted labels for the best single network."
   ]
  },
  {
   "cell_type": "code",
   "execution_count": 72,
   "metadata": {
    "collapsed": true
   },
   "outputs": [],
   "source": [
    "def print_labels_best_net(idx, **kwargs):\n",
    "    print_labels(labels=best_net_pred_labels, idx=idx, **kwargs)"
   ]
  },
  {
   "cell_type": "markdown",
   "metadata": {},
   "source": [
    "Function for printing the predicted labels of all the neural networks in the ensemble. This only prints the labels for the first image."
   ]
  },
  {
   "cell_type": "code",
   "execution_count": 73,
   "metadata": {
    "collapsed": true
   },
   "outputs": [],
   "source": [
    "def print_labels_all_nets(idx):\n",
    "    for i in range(num_networks):\n",
    "        print_labels(labels=pred_labels[i, :, :], idx=idx, num=1)"
   ]
  },
  {
   "cell_type": "markdown",
   "metadata": {},
   "source": [
    "<div style=\"background-color:#0B8261; width:100%; height:38px; color:white; font-size:18px; padding:10px;\" id=\"Examples\">\n",
    "EXAMPLES\n",
    "</div>\n",
    "\n",
    "<h3 style=\"color:#45A046;\">Ensemble is better than the best Network</h3>\n",
    "\n",
    "Plot examples of images that were correctly classified by the ensemble and incorrectly classified by the best single network."
   ]
  },
  {
   "cell_type": "code",
   "execution_count": 74,
   "metadata": {
    "scrolled": true
   },
   "outputs": [
    {
     "data": {
      "image/png": "[encoded data removed]",
      "text/plain": [
       "<matplotlib.figure.Figure at 0x2937b6da048>"
      ]
     },
     "metadata": {},
     "output_type": "display_data"
    }
   ],
   "source": [
    "plot_images_comparison(idx=ensemble_better)"
   ]
  },
  {
   "cell_type": "markdown",
   "metadata": {},
   "source": [
    "The ensemble's predicted labels for the first of these images (top left image):"
   ]
  },
  {
   "cell_type": "code",
   "execution_count": 75,
   "metadata": {},
   "outputs": [
    {
     "name": "stdout",
     "output_type": "stream",
     "text": [
      "[[0.   0.   0.   0.65 0.   0.1  0.   0.   0.25 0.  ]]\n"
     ]
    }
   ],
   "source": [
    "print_labels_ensemble(idx=ensemble_better, num=1)"
   ]
  },
  {
   "cell_type": "markdown",
   "metadata": {},
   "source": [
    "The best network's predicted labels for the first of these images:"
   ]
  },
  {
   "cell_type": "code",
   "execution_count": 76,
   "metadata": {},
   "outputs": [
    {
     "name": "stdout",
     "output_type": "stream",
     "text": [
      "[[0.   0.   0.   0.29 0.   0.02 0.   0.   0.69 0.  ]]\n"
     ]
    }
   ],
   "source": [
    "print_labels_best_net(idx=ensemble_better, num=1)"
   ]
  },
  {
   "cell_type": "markdown",
   "metadata": {},
   "source": [
    "The predicted labels of all the networks in the ensemble, for the first of these images:"
   ]
  },
  {
   "cell_type": "code",
   "execution_count": 77,
   "metadata": {
    "scrolled": true
   },
   "outputs": [
    {
     "name": "stdout",
     "output_type": "stream",
     "text": [
      "[[0.   0.   0.   0.29 0.   0.02 0.   0.   0.69 0.  ]]\n",
      "[[0.   0.   0.01 0.61 0.   0.36 0.   0.   0.02 0.  ]]\n",
      "[[0.   0.   0.   0.83 0.   0.07 0.   0.   0.09 0.  ]]\n",
      "[[0.   0.   0.01 0.9  0.   0.01 0.   0.   0.08 0.  ]]\n",
      "[[0.   0.   0.   0.61 0.   0.01 0.   0.   0.39 0.  ]]\n"
     ]
    }
   ],
   "source": [
    "print_labels_all_nets(idx=ensemble_better)"
   ]
  },
  {
   "cell_type": "markdown",
   "metadata": {},
   "source": [
    "<h3 style=\"color:#45A046;\">Best Network is better than Ensemble</h3>\n",
    "\n",
    "Now plot examples of images that were incorrectly classified by the ensemble but correctly classified by the best single network."
   ]
  },
  {
   "cell_type": "code",
   "execution_count": 78,
   "metadata": {
    "scrolled": true
   },
   "outputs": [
    {
     "data": {
      "image/png": "[encoded data removed]",
      "text/plain": [
       "<matplotlib.figure.Figure at 0x2937bd43a58>"
      ]
     },
     "metadata": {},
     "output_type": "display_data"
    }
   ],
   "source": [
    "plot_images_comparison(idx=best_net_better)"
   ]
  },
  {
   "cell_type": "markdown",
   "metadata": {},
   "source": [
    "The ensemble's predicted labels for the first of these images (top left image):"
   ]
  },
  {
   "cell_type": "code",
   "execution_count": 79,
   "metadata": {
    "scrolled": true
   },
   "outputs": [
    {
     "name": "stdout",
     "output_type": "stream",
     "text": [
      "[[0.   0.76 0.21 0.01 0.   0.   0.   0.02 0.   0.  ]]\n"
     ]
    }
   ],
   "source": [
    "print_labels_ensemble(idx=best_net_better, num=1)"
   ]
  },
  {
   "cell_type": "markdown",
   "metadata": {},
   "source": [
    "The best single network's predicted labels for the first of these images:"
   ]
  },
  {
   "cell_type": "code",
   "execution_count": 80,
   "metadata": {
    "scrolled": true
   },
   "outputs": [
    {
     "name": "stdout",
     "output_type": "stream",
     "text": [
      "[[0.   0.27 0.71 0.01 0.   0.   0.   0.01 0.   0.  ]]\n"
     ]
    }
   ],
   "source": [
    "print_labels_best_net(idx=best_net_better, num=1)"
   ]
  },
  {
   "cell_type": "markdown",
   "metadata": {},
   "source": [
    "The predicted labels of all the networks in the ensemble, for the first of these images:"
   ]
  },
  {
   "cell_type": "code",
   "execution_count": 81,
   "metadata": {},
   "outputs": [
    {
     "name": "stdout",
     "output_type": "stream",
     "text": [
      "[[0.   0.27 0.71 0.01 0.   0.   0.   0.01 0.   0.  ]]\n",
      "[[0.   0.98 0.01 0.   0.   0.   0.   0.   0.   0.  ]]\n",
      "[[0.   0.94 0.05 0.   0.   0.   0.   0.01 0.   0.  ]]\n",
      "[[0.   0.64 0.26 0.02 0.   0.   0.   0.07 0.01 0.  ]]\n",
      "[[0.   0.97 0.01 0.   0.   0.   0.   0.   0.01 0.  ]]\n"
     ]
    }
   ],
   "source": [
    "print_labels_all_nets(idx=best_net_better)"
   ]
  },
  {
   "cell_type": "markdown",
   "metadata": {},
   "source": [
    "<h3 style=\"color:#45A046;\">Close TensorFlow Session</h3>\n",
    "\n",
    "We are now done using TensorFlow, so we close the session to release its resources."
   ]
  },
  {
   "cell_type": "code",
   "execution_count": 82,
   "metadata": {
    "collapsed": true
   },
   "outputs": [],
   "source": [
    "# This can be commented out in case you want to modify and experiment\n",
    "# with the Notebook without having to restart it.\n",
    "session.close()"
   ]
  },
  {
   "cell_type": "markdown",
   "metadata": {},
   "source": [
    "<div style=\"background-color:#0B8261; width:100%; height:38px; color:white; font-size:18px; padding:10px;\" id=\"Summary\">\n",
    "SUMMARY\n",
    "</div>\n",
    "\n",
    "This tutorial created an ensemble of 5 convolutional neural networks for classifying hand-written digits in the MNIST data-set. The ensemble worked by averaging the predicted class-labels of the 5 individual neural networks. This resulted in slightly improved classification accuracy on the test-set, with the ensemble having an accuracy of 99.1% compared to 98.9% for the best individual network.\n",
    "\n",
    "However, the ensemble did not always perform better than the individual neural networks, which sometimes classified images correctly while the ensemble misclassified those images. This suggests that the effect of using an ensemble of neural networks is somewhat random and may not provide a reliable way of improving the performance over a single neural network.\n",
    "\n",
    "The form of ensemble learning used here is called [bagging](https://en.wikipedia.org/wiki/Bootstrap_aggregating) (or Bootstrap Aggregating), which is mainly useful for avoiding overfitting and may not be necessary for this particular neural network and data-set. So it is still possible that ensemble learning may work in other settings.\n",
    "\n",
    "<br/>\n",
    "\n",
    "<div style=\"background-color:#D33222; margin-left:10%; width:90%; height:38px; color:white; font-size:18px; padding:10px; float:right;\">\n",
    "NOTE\n",
    "</div>\n",
    ">- This implementation of ensemble learning used the TensorFlow `Saver()`object to save and reload the variables of the neural network.\n",
    ">- But this functionality was really designed for another purpose and becomes very awkward to use for ensemble learning with different types of neural networks, or if you want to load multiple neural networks at the same time. \n",
    ">- There's an add-on package for TensorFlow called [sk-flow](https://github.com/tensorflow/tensorflow/tree/master/tensorflow/contrib/learn/python/learn) which makes this much easier, but it is still in the early stages of development as of August 2016."
   ]
  },
  {
   "cell_type": "markdown",
   "metadata": {},
   "source": [
    "<div style=\"background-color:#0B8261; width:100%; height:38px; color:white; font-size:18px; padding:10px;\" id=\"Challenge\">\n",
    "CHALLENGE\n",
    "</div>\n",
    "\n",
    "These are a few suggestions for exercises that may help improve your skills with TensorFlow. It is important to get hands-on experience with TensorFlow in order to learn how to use it properly.\n",
    "\n",
    "You may want to backup this Notebook before making any changes.\n",
    "\n",
    "* Change different aspects of this program to see how it affects the performance:\n",
    "    * Use more neural networks in the ensemble.\n",
    "    * Change the size of the training-sets.\n",
    "    * Change the number of optimization iterations, try both more and less.\n",
    "* Explain to a friend how the program works.\n",
    "* Do you think Ensemble Learning is worth more research effort, or should you rather focus on improving a single neural network?"
   ]
  },
  {
   "cell_type": "markdown",
   "metadata": {},
   "source": [
    "<div style=\"background-color:#0B8261; width:100%; height:38px; color:white; font-size:18px; padding:10px;\" id=\"Summary\">\n",
    "LICENSE (MIT)\n",
    "</div>\n",
    "\n",
    "Copyright (c) 2016 by [Magnus Erik Hvass Pedersen](http://www.hvass-labs.org/)\n",
    "\n",
    "Permission is hereby granted, free of charge, to any person obtaining a copy of this software and associated documentation files (the \"Software\"), to deal in the Software without restriction, including without limitation the rights to use, copy, modify, merge, publish, distribute, sublicense, and/or sell copies of the Software, and to permit persons to whom the Software is furnished to do so, subject to the following conditions:\n",
    "\n",
    "The above copyright notice and this permission notice shall be included in all copies or substantial portions of the Software.\n",
    "\n",
    "THE SOFTWARE IS PROVIDED \"AS IS\", WITHOUT WARRANTY OF ANY KIND, EXPRESS OR IMPLIED, INCLUDING BUT NOT LIMITED TO THE WARRANTIES OF MERCHANTABILITY, FITNESS FOR A PARTICULAR PURPOSE AND NONINFRINGEMENT. IN NO EVENT SHALL THE AUTHORS OR COPYRIGHT HOLDERS BE LIABLE FOR ANY CLAIM, DAMAGES OR OTHER LIABILITY, WHETHER IN AN ACTION OF CONTRACT, TORT OR OTHERWISE, ARISING FROM, OUT OF OR IN CONNECTION WITH THE SOFTWARE OR THE USE OR OTHER DEALINGS IN THE SOFTWARE."
   ]
  },
  {
   "cell_type": "code",
   "execution_count": null,
   "metadata": {},
   "outputs": [],
   "source": []
  }
 ],
 "metadata": {
  "kernelspec": {
   "display_name": "Python 3",
   "language": "python",
   "name": "python3"
  },
  "language_info": {
   "codemirror_mode": {
    "name": "ipython",
    "version": 3
   },
   "file_extension": ".py",
   "mimetype": "text/x-python",
   "name": "python",
   "nbconvert_exporter": "python",
   "pygments_lexer": "ipython3",
   "version": "3.6.4"
  }
 },
 "nbformat": 4,
 "nbformat_minor": 1
}
